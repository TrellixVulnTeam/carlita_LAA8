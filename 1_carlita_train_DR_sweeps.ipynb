{
 "cells": [
  {
   "cell_type": "code",
   "execution_count": 1,
   "metadata": {
    "scrolled": true
   },
   "outputs": [
    {
     "data": {
      "text/plain": [
       "'cuda'"
      ]
     },
     "execution_count": 1,
     "metadata": {},
     "output_type": "execute_result"
    }
   ],
   "source": [
    "#%matplotlib inline\n",
    "%load_ext autoreload\n",
    "%autoreload 2\n",
    "\n",
    "import torch\n",
    "import torch.nn as nn\n",
    "import torch.nn.functional as F\n",
    "import numpy as np\n",
    "import wandb\n",
    "\n",
    "import time\n",
    "import random\n",
    "import copy\n",
    "from copy import deepcopy\n",
    "import threading\n",
    "\n",
    "from train_utils import *\n",
    "\n",
    "import gym3\n",
    "from procgen import ProcgenGym3Env\n",
    "import matplotlib.pyplot as plt\n",
    "\n",
    "device = 'cuda' if torch.cuda.is_available() else 'cpu'; device"
   ]
  },
  {
   "cell_type": "code",
   "execution_count": 2,
   "metadata": {},
   "outputs": [],
   "source": [
    "bs = 64\n",
    "all_colors = [0,1,2,3,4,5,6,7]\n",
    "background_noise = 100\n",
    "no_background_noise = 0\n",
    "configs = [\n",
    "    {\n",
    "        'name':'background_noise',\n",
    "        'color_theme_indist': all_colors,\n",
    "        'color_theme_outdist': all_colors,\n",
    "        'color_theme_road_indist': all_colors,\n",
    "        'color_theme_road_outdist': all_colors,\n",
    "        'background_noise_level_indist': 0,\n",
    "        'background_noise_level_outdist': background_noise\n",
    "    },{ \n",
    "        'name':'road_color_middle',\n",
    "        'color_theme_indist': all_colors,\n",
    "        'color_theme_outdist': all_colors,\n",
    "        'color_theme_road_indist': [0,1,2,5,6,7],\n",
    "        'color_theme_road_outdist': [3,4],\n",
    "        'background_noise_level_indist': background_noise,\n",
    "        'background_noise_level_outdist': background_noise\n",
    "    },{\n",
    "        'name':'road_color_middle_backnoise',\n",
    "        'color_theme_indist': all_colors,\n",
    "        'color_theme_outdist': all_colors,\n",
    "        'color_theme_road_indist': [0,1,2,5,6,7],\n",
    "        'color_theme_road_outdist': [3,4],\n",
    "        'background_noise_level_indist': 0,\n",
    "        'background_noise_level_outdist': background_noise,\n",
    "    },\n",
    "]"
   ]
  },
  {
   "cell_type": "code",
   "execution_count": 3,
   "metadata": {},
   "outputs": [],
   "source": [
    "def get_env(dist, config):\n",
    "    return ProcgenGym3Env(num=bs, env_name=\"testgame\", num_levels=100_000, start_level=0,\n",
    "                         color_theme=config['color_theme_'+dist],\n",
    "                         color_theme_road=config['color_theme_road_'+dist],\n",
    "                         background_noise_level=config['background_noise_level_'+dist])"
   ]
  },
  {
   "cell_type": "code",
   "execution_count": 4,
   "metadata": {},
   "outputs": [],
   "source": [
    "def testdrive(m, dist, use_autopilot, config):\n",
    "    TRAINING_WHEELS_WINDOW = 10\n",
    "    m.eval()\n",
    "    seq_len = 300\n",
    "    val_env = get_env(dist, config)\n",
    "    s = np.array([[.0,.0] for _ in range(bs)], dtype=np.float32)\n",
    "    reward = 0\n",
    "    with torch.no_grad():\n",
    "        for i in range(seq_len):\n",
    "            val_env.act(s)\n",
    "            rew, obs, first = val_env.observe()\n",
    "            reward += rew.sum()\n",
    "            img = obs['rgb']\n",
    "            info = val_env.get_info()\n",
    "            autopilot_control = np.array([[e[\"autopilot_\"+c] for c in control_properties] for e in info])\n",
    "            aux = np.array([[e[a] for a in aux_properties] for e in info])\n",
    "            front = torch.from_numpy(img.astype(np.float32)/255.).unsqueeze(0).permute(0,1,4,2,3).to(device)\n",
    "            aux = torch.from_numpy(aux.astype(np.float32)).unsqueeze(0).to(device)\n",
    "            \n",
    "            if use_autopilot or i < TRAINING_WHEELS_WINDOW:\n",
    "                s = autopilot_control\n",
    "            else:\n",
    "                out, _ = m(front, aux, '')\n",
    "                s = out.squeeze(0).squeeze(-1).cpu().numpy()\n",
    "                s = np.clip(s, -5., 5.)\n",
    "        \n",
    "    reward /= (bs*seq_len)\n",
    "    val_env.close()\n",
    "    m.train()\n",
    "    return reward"
   ]
  },
  {
   "cell_type": "code",
   "execution_count": 5,
   "metadata": {},
   "outputs": [],
   "source": [
    "loss_fn = torch.nn.MSELoss().cuda()\n",
    "def get_model():\n",
    "    m = VizCNN(use_rnn=False).to(device);\n",
    "    opt = torch.optim.Adam(m.parameters(), lr=3e-4)\n",
    "    scaler = torch.cuda.amp.GradScaler() \n",
    "    return m, opt, scaler"
   ]
  },
  {
   "cell_type": "code",
   "execution_count": 6,
   "metadata": {},
   "outputs": [],
   "source": [
    "\n",
    "def train(config, wandb_run=None):\n",
    "    m, opt, scaler = get_model()\n",
    "    global bs\n",
    "    dataloader = DataLoader(env=get_env(dist='indist', config=config), bs=bs, seq_len=200)\n",
    "    autopilot_score_indist = testdrive(m, 'indist', use_autopilot=True, config=config)\n",
    "    autopilot_score_outdist = testdrive(m, 'outdist', use_autopilot=True, config=config)\n",
    "\n",
    "    m.train()\n",
    "    logger = Logger()\n",
    "    n_updates = 15_100\n",
    "    counter = 1\n",
    "    log_cadence = 5_000\n",
    "    bptt = 1\n",
    "\n",
    "    while counter < n_updates:\n",
    "        front_container, aux_container, target_container = dataloader.get_chunk()\n",
    "        chunk_len, bs, _, _, _ = front_container.shape\n",
    "        len_ix = 0\n",
    "        while len_ix < chunk_len:\n",
    "            front = front_container[len_ix:len_ix+bptt, :, :, :, :].to(device).half()\n",
    "            aux = aux_container[len_ix:len_ix+bptt, :, :].to(device).half()\n",
    "            target = target_container[len_ix:len_ix+bptt, :, :].to(device).half()\n",
    "            len_ix += bptt*4\n",
    "            with torch.cuda.amp.autocast(): pred, _ = m(front, aux, '')  \n",
    "            loss = loss_fn(target, pred)\n",
    "            scaler.scale(loss).backward() \n",
    "            scaler.step(opt) \n",
    "            scaler.update() \n",
    "            opt.zero_grad()\n",
    "            counter += 1\n",
    "\n",
    "            if counter % log_cadence == 0:\n",
    "                val_score_indist = testdrive(m, 'indist', use_autopilot=False, config=config) / autopilot_score_indist\n",
    "                val_score_outdist = testdrive(m, 'outdist', use_autopilot=False, config=config) / autopilot_score_outdist\n",
    "                logger.log({\n",
    "                    \"score_indist\":np.round(val_score_indist,2),\n",
    "                    \"score_outdist\":np.round(val_score_outdist,2)\n",
    "                })\n",
    "                stats = logger.finish()\n",
    "                print(stats)\n",
    "                if wandb_run:\n",
    "                    wandb.log(stats)\n",
    "    \n",
    "    dataloader.destroy()\n",
    "    del dataloader, m"
   ]
  },
  {
   "cell_type": "code",
   "execution_count": null,
   "metadata": {},
   "outputs": [
    {
     "name": "stderr",
     "output_type": "stream",
     "text": [
      "\u001b[34m\u001b[1mwandb\u001b[0m: Currently logged in as: \u001b[33mrgilman33\u001b[0m (use `wandb login --relogin` to force relogin)\n",
      "\u001b[34m\u001b[1mwandb\u001b[0m: wandb version 0.10.27 is available!  To upgrade, please run:\n",
      "\u001b[34m\u001b[1mwandb\u001b[0m:  $ pip install wandb --upgrade\n"
     ]
    },
    {
     "data": {
      "text/html": [
       "\n",
       "                Tracking run with wandb version 0.10.12<br/>\n",
       "                Syncing run <strong style=\"color:#cdcd00\">lyric-snowball-32</strong> to <a href=\"https://wandb.ai\" target=\"_blank\">Weights & Biases</a> <a href=\"https://docs.wandb.com/integrations/jupyter.html\" target=\"_blank\">(Documentation)</a>.<br/>\n",
       "                Project page: <a href=\"https://wandb.ai/rgilman33/domain-randomization\" target=\"_blank\">https://wandb.ai/rgilman33/domain-randomization</a><br/>\n",
       "                Run page: <a href=\"https://wandb.ai/rgilman33/domain-randomization/runs/143k2w9l\" target=\"_blank\">https://wandb.ai/rgilman33/domain-randomization/runs/143k2w9l</a><br/>\n",
       "                Run data is saved locally in <code>/home/beans/carlita/wandb/run-20210428_170527-143k2w9l</code><br/><br/>\n",
       "            "
      ],
      "text/plain": [
       "<IPython.core.display.HTML object>"
      ]
     },
     "metadata": {},
     "output_type": "display_data"
    },
    {
     "name": "stdout",
     "output_type": "stream",
     "text": [
      "building procgen...done\n",
      "{'score_indist': 1.01, 'score_outdist': 1.01}\n",
      "{'score_indist': 0.99, 'score_outdist': 1.02}\n"
     ]
    }
   ],
   "source": [
    "n_seeds = 3\n",
    "experiment_name = 'road color, backnoise'\n",
    "\n",
    "for config in configs:\n",
    "    for _ in range(n_seeds):\n",
    "        with wandb.init(project=\"domain-randomization\", group=config['name'], tags=[experiment_name]) as wandb_run:\n",
    "            train(config, wandb_run)\n",
    "            "
   ]
  },
  {
   "cell_type": "code",
   "execution_count": null,
   "metadata": {},
   "outputs": [],
   "source": []
  },
  {
   "cell_type": "code",
   "execution_count": null,
   "metadata": {},
   "outputs": [],
   "source": []
  }
 ],
 "metadata": {
  "kernelspec": {
   "display_name": "Python 3",
   "language": "python",
   "name": "python3"
  },
  "language_info": {
   "codemirror_mode": {
    "name": "ipython",
    "version": 3
   },
   "file_extension": ".py",
   "mimetype": "text/x-python",
   "name": "python",
   "nbconvert_exporter": "python",
   "pygments_lexer": "ipython3",
   "version": "3.7.3"
  }
 },
 "nbformat": 4,
 "nbformat_minor": 4
}
