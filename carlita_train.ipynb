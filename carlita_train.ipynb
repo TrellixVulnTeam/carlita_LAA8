{
 "cells": [
  {
   "cell_type": "code",
   "execution_count": 1,
   "metadata": {
    "colab": {
     "base_uri": "https://localhost:8080/",
     "height": 35
    },
    "id": "npnbb2NlYvlu",
    "outputId": "5991e92b-8071-4aef-f84d-bc07cd5ec646",
    "scrolled": true
   },
   "outputs": [
    {
     "data": {
      "text/plain": [
       "'cuda'"
      ]
     },
     "execution_count": 1,
     "metadata": {},
     "output_type": "execute_result"
    }
   ],
   "source": [
    "#%matplotlib inline\n",
    "%load_ext autoreload\n",
    "%autoreload 2\n",
    "\n",
    "import torch\n",
    "import torch.nn as nn\n",
    "import torch.nn.functional as F\n",
    "import numpy as np\n",
    "import wandb\n",
    "\n",
    "import time\n",
    "import random\n",
    "import copy\n",
    "from copy import deepcopy\n",
    "import threading\n",
    "\n",
    "from train_utils import *\n",
    "\n",
    "import gym3\n",
    "from procgen import ProcgenGym3Env\n",
    "import matplotlib.pyplot as plt\n",
    "\n",
    "device = 'cuda' if torch.cuda.is_available() else 'cpu'; device"
   ]
  },
  {
   "cell_type": "code",
   "execution_count": null,
   "metadata": {},
   "outputs": [],
   "source": [
    "run_id = wandb.util.generate_id(); run_id"
   ]
  },
  {
   "cell_type": "code",
   "execution_count": null,
   "metadata": {},
   "outputs": [],
   "source": [
    "wandb.init(id='14s7sazo', project=\"carlita\", resume=\"allow\")"
   ]
  },
  {
   "cell_type": "code",
   "execution_count": 2,
   "metadata": {
    "colab": {
     "base_uri": "https://localhost:8080/"
    },
    "id": "AZLqspsrYvl1",
    "outputId": "b5c13fcc-29ba-4b90-cbdc-f422824a660d"
   },
   "outputs": [
    {
     "data": {
      "text/plain": [
       "{'name': 'bg:all rd:all noise:100',\n",
       " 'color_theme': [0, 1, 2, 3, 4, 5, 6, 7],\n",
       " 'color_theme_road': [0, 1, 2, 3, 4, 5, 6, 7],\n",
       " 'color_theme_sidewalk': [0, 1, 2, 3, 4, 5, 6, 7],\n",
       " 'background_noise_level': 100,\n",
       " 'render_mode': None}"
      ]
     },
     "execution_count": 2,
     "metadata": {},
     "output_type": "execute_result"
    }
   ],
   "source": [
    "bs = 64\n",
    "\n",
    "color_lookup = {\n",
    "    'all':[0,1,2,3,4,5,6,7],\n",
    "    'outer':[0,1,6,7],\n",
    "    'inner':[2,3,4,5]\n",
    "}\n",
    "backgrounds = ['outer', 'inner']\n",
    "roads = ['outer', 'inner']\n",
    "sidewalks = ['outer', 'inner']\n",
    "backnoises = [0, 100]\n",
    "\n",
    "rd, bg, sw = 'all', \"all\", \"all\"\n",
    "backnoise = 100\n",
    "config = { \n",
    "    'name':f\"bg:{bg} rd:{rd} noise:{backnoise}\",\n",
    "    'color_theme': color_lookup[bg],\n",
    "    'color_theme_road':color_lookup[rd],\n",
    "    'color_theme_sidewalk':color_lookup[sw],\n",
    "    'background_noise_level':backnoise,\n",
    "    'render_mode':None,\n",
    "}\n",
    "config"
   ]
  },
  {
   "cell_type": "code",
   "execution_count": null,
   "metadata": {
    "id": "OBWrjH6MvpXL"
   },
   "outputs": [],
   "source": []
  },
  {
   "cell_type": "code",
   "execution_count": 3,
   "metadata": {
    "id": "XI5nqjVGYvl2"
   },
   "outputs": [],
   "source": [
    "def get_env(config, bs=bs):\n",
    "    return ProcgenGym3Env(num=bs, env_name=\"testgame\", num_levels=100_000, start_level=0,\n",
    "                         color_theme=config['color_theme'],\n",
    "                         color_theme_road=config['color_theme_road'],\n",
    "                         color_theme_sidewalk=config['color_theme_sidewalk'],\n",
    "                         background_noise_level=config['background_noise_level'],\n",
    "                         render_mode=config['render_mode'])"
   ]
  },
  {
   "cell_type": "code",
   "execution_count": null,
   "metadata": {},
   "outputs": [],
   "source": []
  },
  {
   "cell_type": "code",
   "execution_count": 4,
   "metadata": {
    "id": "L98XDOutYvl3"
   },
   "outputs": [],
   "source": [
    "def testdrive(m, use_autopilot, config):\n",
    "    TRAINING_WHEELS_WINDOW = 10\n",
    "    if not use_autopilot:\n",
    "        m.eval()\n",
    "    seq_len = 400\n",
    "    bs = 256\n",
    "    val_config = config\n",
    "    val_config['render_mode'] = 'rgb_array'\n",
    "    val_env_base = get_env(val_config, bs=bs)\n",
    "    val_env = gym3.ViewerWrapper(val_env_base, info_key=\"rgb\")\n",
    "    s = np.array([[.0,.0] for _ in range(bs)], dtype=np.float32)\n",
    "    reward = 0\n",
    "    with torch.no_grad():\n",
    "        h = get_hidden(bs)\n",
    "        for i in range(seq_len):\n",
    "            val_env.act(s)\n",
    "            rew, obs, first = val_env.observe()\n",
    "            reward += rew.sum()\n",
    "            img = obs['rgb']\n",
    "            info = val_env.get_info()\n",
    "            autopilot_control = np.array([[e[\"autopilot_\"+c] for c in control_properties] for e in info])\n",
    "            aux = np.array([[e[a] for a in aux_properties] for e in info])\n",
    "            front = torch.from_numpy(img.astype(np.float32)/255.).unsqueeze(0).permute(0,1,4,2,3).to(device)\n",
    "            aux = torch.from_numpy(aux.astype(np.float32)).unsqueeze(0).to(device)\n",
    "            \n",
    "            if use_autopilot or i < TRAINING_WHEELS_WINDOW:\n",
    "                s = autopilot_control\n",
    "            else:\n",
    "                out, h = m(front, aux, h)\n",
    "                s = out.squeeze(0).squeeze(-1).cpu().numpy()\n",
    "                s = np.clip(s, -5., 5.)\n",
    "        \n",
    "    reward /= (bs*seq_len)\n",
    "    val_env_base.close()\n",
    "    if not use_autopilot:\n",
    "        m.train()\n",
    "    return reward"
   ]
  },
  {
   "cell_type": "code",
   "execution_count": 5,
   "metadata": {
    "colab": {
     "base_uri": "https://localhost:8080/"
    },
    "id": "69ZdcgBUxhkV",
    "outputId": "afc585e2-dea7-43c6-9d92-c10138e0f15b",
    "scrolled": true
   },
   "outputs": [
    {
     "name": "stdout",
     "output_type": "stream",
     "text": [
      "building procgen...done\n"
     ]
    },
    {
     "data": {
      "text/plain": [
       "0.44904296875"
      ]
     },
     "execution_count": 5,
     "metadata": {},
     "output_type": "execute_result"
    }
   ],
   "source": [
    "baseline_score = testdrive(None, use_autopilot=True, config=config)\n",
    "baseline_score"
   ]
  },
  {
   "cell_type": "code",
   "execution_count": 6,
   "metadata": {
    "id": "STSVPszcYvl4"
   },
   "outputs": [],
   "source": [
    "loss_fn = torch.nn.MSELoss().cuda()\n",
    "def get_model():\n",
    "    m = VizCNN(use_rnn=True).to(device);\n",
    "    opt = torch.optim.Adam(m.parameters(), lr=3e-4)\n",
    "    scaler = torch.cuda.amp.GradScaler() \n",
    "    return m, opt, scaler"
   ]
  },
  {
   "cell_type": "code",
   "execution_count": 7,
   "metadata": {
    "id": "lXiXPGiDYvl4"
   },
   "outputs": [],
   "source": [
    "\n",
    "def train(config):\n",
    "    m, opt, scaler = get_model()\n",
    "    global bs\n",
    "    dataloader = DataLoader(env=get_env(config, bs=bs), bs=bs, seq_len=200)\n",
    "\n",
    "    m.train()\n",
    "    logger = Logger()\n",
    "    n_updates = 20_000\n",
    "    counter = 1\n",
    "    log_cadence = 1024\n",
    "    bptt = 32\n",
    "\n",
    "    while counter < n_updates:\n",
    "        front_container, aux_container, target_container = dataloader.get_chunk()\n",
    "        chunk_len, bs, _, _, _ = front_container.shape\n",
    "        len_ix = 0\n",
    "        h = get_hidden(bs)\n",
    "        while len_ix < chunk_len:\n",
    "            front = front_container[len_ix:len_ix+bptt, :, :, :, :].to(device).half()\n",
    "            aux = aux_container[len_ix:len_ix+bptt, :, :].to(device).half()\n",
    "            target = target_container[len_ix:len_ix+bptt, :, :].to(device).half()\n",
    "            len_ix += bptt\n",
    "            with torch.cuda.amp.autocast(): pred, h = m(front, aux, h)\n",
    "            h = (h[0].detach(), h[1].detach())\n",
    "            loss = loss_fn(target, pred)\n",
    "            scaler.scale(loss).backward() \n",
    "            scaler.step(opt) \n",
    "            scaler.update() \n",
    "            opt.zero_grad()\n",
    "\n",
    "            if counter % log_cadence == 0:\n",
    "                print(\"testing agent\")\n",
    "                score = testdrive(m, use_autopilot=False, config=config) / baseline_score\n",
    "                wandb.log({\"score\":score})\n",
    "                print(score)\n",
    "\n",
    "            counter += 1\n"
   ]
  },
  {
   "cell_type": "code",
   "execution_count": null,
   "metadata": {
    "id": "HQpZqO_yYvl5",
    "scrolled": true
   },
   "outputs": [
    {
     "name": "stdout",
     "output_type": "stream",
     "text": [
      "testing agent\n",
      "0.7997259797311992\n",
      "testing agent\n",
      "0.7694315166804402\n"
     ]
    }
   ],
   "source": [
    "train(config)"
   ]
  },
  {
   "cell_type": "code",
   "execution_count": null,
   "metadata": {},
   "outputs": [],
   "source": []
  },
  {
   "cell_type": "code",
   "execution_count": null,
   "metadata": {},
   "outputs": [],
   "source": []
  },
  {
   "cell_type": "code",
   "execution_count": null,
   "metadata": {
    "id": "Vgt21UIKYvl6"
   },
   "outputs": [],
   "source": [
    "results = []\n",
    "\n",
    "for config_test in configs:\n",
    "    m, _, _ = get_model()\n",
    "    baseline_score = testdrive(m, use_autopilot=True, config=config_test)\n",
    "    \n",
    "    for config_train in configs:\n",
    "        m.load_state_dict(torch.load(config_train['name']+\".torch\"))\n",
    "        score = testdrive(m, use_autopilot=False, config=config_test) / baseline_score\n",
    "        result = {'trn_env':config_train['name'],\n",
    "                 'test_env':config_test['name'],\n",
    "                 'score':score}\n",
    "        results.append(result)"
   ]
  },
  {
   "cell_type": "code",
   "execution_count": null,
   "metadata": {
    "colab": {
     "background_save": true
    },
    "id": "gg1UJseJYvl6"
   },
   "outputs": [],
   "source": [
    "import pandas as pd\n",
    "df = pd.DataFrame(results)"
   ]
  },
  {
   "cell_type": "code",
   "execution_count": null,
   "metadata": {
    "id": "Bv9oLdgMYvl7"
   },
   "outputs": [],
   "source": [
    "df.pivot(index='trn_env', columns='test_env', values='score')"
   ]
  },
  {
   "cell_type": "code",
   "execution_count": null,
   "metadata": {
    "id": "xCZU1d5-Yvl7"
   },
   "outputs": [],
   "source": []
  }
 ],
 "metadata": {
  "accelerator": "GPU",
  "colab": {
   "collapsed_sections": [],
   "name": "carlita_train",
   "provenance": []
  },
  "kernelspec": {
   "display_name": "Python 3 (ipykernel)",
   "language": "python",
   "name": "python3"
  },
  "language_info": {
   "codemirror_mode": {
    "name": "ipython",
    "version": 3
   },
   "file_extension": ".py",
   "mimetype": "text/x-python",
   "name": "python",
   "nbconvert_exporter": "python",
   "pygments_lexer": "ipython3",
   "version": "3.7.3"
  }
 },
 "nbformat": 4,
 "nbformat_minor": 1
}
