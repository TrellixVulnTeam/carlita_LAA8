{
 "cells": [
  {
   "cell_type": "code",
   "execution_count": 1,
   "metadata": {
    "colab": {
     "base_uri": "https://localhost:8080/"
    },
    "id": "Qxr8dm5Bnzk5",
    "outputId": "a4ef862c-5d87-4d29-a58b-37bce0e968b8",
    "scrolled": true
   },
   "outputs": [
    {
     "name": "stdout",
     "output_type": "stream",
     "text": [
      "fatal: destination path 'carlita' already exists and is not an empty directory.\n",
      "/content/carlita\n",
      "Obtaining file:///content/carlita\n",
      "Requirement already satisfied: numpy<2.0.0,>=1.17.0 in /usr/local/lib/python3.7/dist-packages (from procgen==0.10.4+75929e2) (1.19.5)\n",
      "Requirement already satisfied: gym<1.0.0,>=0.15.0 in /usr/local/lib/python3.7/dist-packages (from procgen==0.10.4+75929e2) (0.17.3)\n",
      "Requirement already satisfied: gym3<1.0.0,>=0.3.3 in /usr/local/lib/python3.7/dist-packages (from procgen==0.10.4+75929e2) (0.3.3)\n",
      "Requirement already satisfied: filelock<4.0.0,>=3.0.0 in /usr/local/lib/python3.7/dist-packages (from procgen==0.10.4+75929e2) (3.0.12)\n",
      "Requirement already satisfied: cloudpickle<1.7.0,>=1.2.0 in /usr/local/lib/python3.7/dist-packages (from gym<1.0.0,>=0.15.0->procgen==0.10.4+75929e2) (1.3.0)\n",
      "Requirement already satisfied: pyglet<=1.5.0,>=1.4.0 in /usr/local/lib/python3.7/dist-packages (from gym<1.0.0,>=0.15.0->procgen==0.10.4+75929e2) (1.5.0)\n",
      "Requirement already satisfied: scipy in /usr/local/lib/python3.7/dist-packages (from gym<1.0.0,>=0.15.0->procgen==0.10.4+75929e2) (1.4.1)\n",
      "Requirement already satisfied: cffi<2.0.0,>=1.13.0 in /usr/local/lib/python3.7/dist-packages (from gym3<1.0.0,>=0.3.3->procgen==0.10.4+75929e2) (1.14.5)\n",
      "Requirement already satisfied: glfw<2.0.0,>=1.8.6 in /usr/local/lib/python3.7/dist-packages (from gym3<1.0.0,>=0.3.3->procgen==0.10.4+75929e2) (1.12.0)\n",
      "Requirement already satisfied: imageio-ffmpeg<0.4.0,>=0.3.0 in /usr/local/lib/python3.7/dist-packages (from gym3<1.0.0,>=0.3.3->procgen==0.10.4+75929e2) (0.3.0)\n",
      "Requirement already satisfied: moderngl<6.0.0,>=5.5.4 in /usr/local/lib/python3.7/dist-packages (from gym3<1.0.0,>=0.3.3->procgen==0.10.4+75929e2) (5.6.4)\n",
      "Requirement already satisfied: imageio<3.0.0,>=2.6.0 in /usr/local/lib/python3.7/dist-packages (from gym3<1.0.0,>=0.3.3->procgen==0.10.4+75929e2) (2.9.0)\n",
      "Requirement already satisfied: future in /usr/local/lib/python3.7/dist-packages (from pyglet<=1.5.0,>=1.4.0->gym<1.0.0,>=0.15.0->procgen==0.10.4+75929e2) (0.16.0)\n",
      "Requirement already satisfied: pycparser in /usr/local/lib/python3.7/dist-packages (from cffi<2.0.0,>=1.13.0->gym3<1.0.0,>=0.3.3->procgen==0.10.4+75929e2) (2.20)\n",
      "Requirement already satisfied: glcontext<3,>=2 in /usr/local/lib/python3.7/dist-packages (from moderngl<6.0.0,>=5.5.4->gym3<1.0.0,>=0.3.3->procgen==0.10.4+75929e2) (2.3.3)\n",
      "Requirement already satisfied: pillow in /usr/local/lib/python3.7/dist-packages (from imageio<3.0.0,>=2.6.0->gym3<1.0.0,>=0.3.3->procgen==0.10.4+75929e2) (7.0.0)\n",
      "Installing collected packages: procgen\n",
      "  Found existing installation: procgen 0.10.4+75929e2\n",
      "    Can't uninstall 'procgen'. No files were found to uninstall.\n",
      "  Running setup.py develop for procgen\n",
      "Successfully installed procgen\n",
      "Requirement already up-to-date: wandb in /usr/local/lib/python3.7/dist-packages (0.10.23)\n",
      "Requirement already satisfied, skipping upgrade: shortuuid>=0.5.0 in /usr/local/lib/python3.7/dist-packages (from wandb) (1.0.1)\n",
      "Requirement already satisfied, skipping upgrade: psutil>=5.0.0 in /usr/local/lib/python3.7/dist-packages (from wandb) (5.4.8)\n",
      "Requirement already satisfied, skipping upgrade: pathtools in /usr/local/lib/python3.7/dist-packages (from wandb) (0.1.2)\n",
      "Requirement already satisfied, skipping upgrade: subprocess32>=3.5.3 in /usr/local/lib/python3.7/dist-packages (from wandb) (3.5.4)\n",
      "Requirement already satisfied, skipping upgrade: python-dateutil>=2.6.1 in /usr/local/lib/python3.7/dist-packages (from wandb) (2.8.1)\n",
      "Requirement already satisfied, skipping upgrade: docker-pycreds>=0.4.0 in /usr/local/lib/python3.7/dist-packages (from wandb) (0.4.0)\n",
      "Requirement already satisfied, skipping upgrade: protobuf>=3.12.0 in /usr/local/lib/python3.7/dist-packages (from wandb) (3.12.4)\n",
      "Requirement already satisfied, skipping upgrade: promise<3,>=2.0 in /usr/local/lib/python3.7/dist-packages (from wandb) (2.3)\n",
      "Requirement already satisfied, skipping upgrade: requests<3,>=2.0.0 in /usr/local/lib/python3.7/dist-packages (from wandb) (2.23.0)\n",
      "Requirement already satisfied, skipping upgrade: configparser>=3.8.1 in /usr/local/lib/python3.7/dist-packages (from wandb) (5.0.2)\n",
      "Requirement already satisfied, skipping upgrade: sentry-sdk>=0.4.0 in /usr/local/lib/python3.7/dist-packages (from wandb) (1.0.0)\n",
      "Requirement already satisfied, skipping upgrade: GitPython>=1.0.0 in /usr/local/lib/python3.7/dist-packages (from wandb) (3.1.14)\n",
      "Requirement already satisfied, skipping upgrade: PyYAML in /usr/local/lib/python3.7/dist-packages (from wandb) (3.13)\n",
      "Requirement already satisfied, skipping upgrade: six>=1.13.0 in /usr/local/lib/python3.7/dist-packages (from wandb) (1.15.0)\n",
      "Requirement already satisfied, skipping upgrade: Click>=7.0 in /usr/local/lib/python3.7/dist-packages (from wandb) (7.1.2)\n",
      "Requirement already satisfied, skipping upgrade: setuptools in /usr/local/lib/python3.7/dist-packages (from protobuf>=3.12.0->wandb) (54.1.2)\n",
      "Requirement already satisfied, skipping upgrade: urllib3!=1.25.0,!=1.25.1,<1.26,>=1.21.1 in /usr/local/lib/python3.7/dist-packages (from requests<3,>=2.0.0->wandb) (1.24.3)\n",
      "Requirement already satisfied, skipping upgrade: chardet<4,>=3.0.2 in /usr/local/lib/python3.7/dist-packages (from requests<3,>=2.0.0->wandb) (3.0.4)\n",
      "Requirement already satisfied, skipping upgrade: idna<3,>=2.5 in /usr/local/lib/python3.7/dist-packages (from requests<3,>=2.0.0->wandb) (2.10)\n",
      "Requirement already satisfied, skipping upgrade: certifi>=2017.4.17 in /usr/local/lib/python3.7/dist-packages (from requests<3,>=2.0.0->wandb) (2020.12.5)\n",
      "Requirement already satisfied, skipping upgrade: gitdb<5,>=4.0.1 in /usr/local/lib/python3.7/dist-packages (from GitPython>=1.0.0->wandb) (4.0.7)\n",
      "Requirement already satisfied, skipping upgrade: smmap<5,>=3.0.1 in /usr/local/lib/python3.7/dist-packages (from gitdb<5,>=4.0.1->GitPython>=1.0.0->wandb) (4.0.0)\n"
     ]
    }
   ],
   "source": [
    "\"\"\"!git clone https://github.com/rgilman33/carlita.git\n",
    "%cd carlita\n",
    "!pip install -e .\n",
    "\n",
    "!pip install --upgrade wandb\"\"\""
   ]
  },
  {
   "cell_type": "code",
   "execution_count": 1,
   "metadata": {
    "id": "SEqMfW9rjPc4"
   },
   "outputs": [],
   "source": []
  },
  {
   "cell_type": "code",
   "execution_count": 2,
   "metadata": {
    "id": "jMS2QTiynrv7",
    "scrolled": true
   },
   "outputs": [],
   "source": [
    "#%matplotlib inline\n",
    "%load_ext autoreload\n",
    "%autoreload 2\n",
    "\n",
    "import torch\n",
    "import torch.nn as nn\n",
    "import torch.nn.functional as F\n",
    "import numpy as np\n",
    "import matplotlib.pyplot as plt\n",
    "\n",
    "\n",
    "import time\n",
    "import random\n",
    "import copy\n",
    "from copy import deepcopy\n",
    "import threading\n",
    "\n",
    "from train_utils import *\n",
    "\n",
    "import gym3\n",
    "from procgen import ProcgenGym3Env"
   ]
  },
  {
   "cell_type": "code",
   "execution_count": 3,
   "metadata": {
    "colab": {
     "base_uri": "https://localhost:8080/",
     "height": 35
    },
    "id": "sMfOthc1KPga",
    "outputId": "3cdb9228-6afb-43b9-8a90-9464672120e9"
   },
   "outputs": [
    {
     "data": {
      "application/vnd.google.colaboratory.intrinsic+json": {
       "type": "string"
      },
      "text/plain": [
       "'1.8.0+cu101'"
      ]
     },
     "execution_count": 3,
     "metadata": {
      "tags": []
     },
     "output_type": "execute_result"
    }
   ],
   "source": [
    "torch.__version__"
   ]
  },
  {
   "cell_type": "code",
   "execution_count": 4,
   "metadata": {
    "id": "A0dA8sTrnrv8"
   },
   "outputs": [],
   "source": [
    "device = 'cuda' if torch.cuda.is_available() else 'cpu'"
   ]
  },
  {
   "cell_type": "code",
   "execution_count": 5,
   "metadata": {
    "colab": {
     "base_uri": "https://localhost:8080/",
     "height": 35
    },
    "id": "aD4KSAFBnrv8",
    "outputId": "580297a9-dfc1-40e5-e830-8fb6a4e52bdb"
   },
   "outputs": [
    {
     "data": {
      "application/vnd.google.colaboratory.intrinsic+json": {
       "type": "string"
      },
      "text/plain": [
       "'cuda'"
      ]
     },
     "execution_count": 5,
     "metadata": {
      "tags": []
     },
     "output_type": "execute_result"
    }
   ],
   "source": [
    "device"
   ]
  },
  {
   "cell_type": "code",
   "execution_count": 6,
   "metadata": {
    "id": "pvjlCdjinrv9"
   },
   "outputs": [],
   "source": [
    "train_num_levels = 100_000 #500 #1500\n",
    "train_start_level = 0"
   ]
  },
  {
   "cell_type": "code",
   "execution_count": 7,
   "metadata": {
    "colab": {
     "base_uri": "https://localhost:8080/"
    },
    "id": "EN_xA1XRnrv9",
    "outputId": "e7eb7e92-5750-4408-eea0-a5dffa8d4504"
   },
   "outputs": [
    {
     "name": "stdout",
     "output_type": "stream",
     "text": [
      "building procgen...done\n"
     ]
    }
   ],
   "source": [
    "bs = 128 \n",
    "\n",
    "env = ProcgenGym3Env(num=bs, env_name=\"testgame\", num_levels=train_num_levels, start_level=train_start_level)"
   ]
  },
  {
   "cell_type": "code",
   "execution_count": 8,
   "metadata": {
    "colab": {
     "base_uri": "https://localhost:8080/"
    },
    "id": "gMOyZUgRnrv9",
    "outputId": "27df413c-0ea8-4214-fad5-0fee148cd0c6"
   },
   "outputs": [
    {
     "name": "stdout",
     "output_type": "stream",
     "text": [
      "CPU times: user 6.98 s, sys: 325 ms, total: 7.31 s\n",
      "Wall time: 2.07 s\n"
     ]
    }
   ],
   "source": [
    "%%time\n",
    "\n",
    "s = np.array([[.0,.0] for _ in range(bs)], dtype=np.float32)\n",
    "\n",
    "seq_len = 200\n",
    "\n",
    "for i in range(seq_len):\n",
    "    env.act(s)\n",
    "    rew, obs, first = env.observe()\n",
    "    img = obs['rgb']\n",
    "    info = env.get_info()\n"
   ]
  },
  {
   "cell_type": "code",
   "execution_count": 9,
   "metadata": {
    "colab": {
     "base_uri": "https://localhost:8080/",
     "height": 285
    },
    "id": "iaTyl6Apnrv-",
    "outputId": "67c27d73-5a21-44ad-e8ba-27547c72e8f8"
   },
   "outputs": [
    {
     "data": {
      "text/plain": [
       "<matplotlib.image.AxesImage at 0x7fa98fb30750>"
      ]
     },
     "execution_count": 9,
     "metadata": {
      "tags": []
     },
     "output_type": "execute_result"
    },
    {
     "data": {
      "image/png": "[encoded data removed]",
      "text/plain": [
       "<Figure size 432x288 with 1 Axes>"
      ]
     },
     "metadata": {
      "needs_background": "light",
      "tags": []
     },
     "output_type": "display_data"
    }
   ],
   "source": [
    "plt.imshow(img[10])"
   ]
  },
  {
   "cell_type": "code",
   "execution_count": 10,
   "metadata": {
    "colab": {
     "base_uri": "https://localhost:8080/"
    },
    "id": "EK61dD17nrv-",
    "outputId": "5ce666b2-2e8f-4762-9408-d927d3986383",
    "scrolled": true
   },
   "outputs": [
    {
     "name": "stdout",
     "output_type": "stream",
     "text": [
      "Queueing chunk of size torch.Size([100, 128, 3, 64, 64]) took 0.82 seconds\n"
     ]
    }
   ],
   "source": [
    "dataloader = DataLoader(env=env, bs=bs, seq_len=100, use_dagger_aug=True)"
   ]
  },
  {
   "cell_type": "code",
   "execution_count": 10,
   "metadata": {
    "id": "9P1KSjbJnrv-"
   },
   "outputs": [],
   "source": []
  },
  {
   "cell_type": "code",
   "execution_count": 11,
   "metadata": {
    "id": "-1SwEq8Cnrv_"
   },
   "outputs": [],
   "source": [
    "front, aux, target = dataloader.get_chunk()"
   ]
  },
  {
   "cell_type": "code",
   "execution_count": 12,
   "metadata": {
    "colab": {
     "base_uri": "https://localhost:8080/"
    },
    "id": "1QgUI-9Qnrv_",
    "outputId": "d3d9312e-cb67-465e-dee4-ae35d0c13ed5"
   },
   "outputs": [
    {
     "data": {
      "text/plain": [
       "(torch.Size([100, 128, 3, 64, 64]),\n",
       " torch.Size([100, 128, 5]),\n",
       " torch.Size([100, 128, 2]))"
      ]
     },
     "execution_count": 12,
     "metadata": {
      "tags": []
     },
     "output_type": "execute_result"
    }
   ],
   "source": [
    "front.shape, aux.shape, target.shape"
   ]
  },
  {
   "cell_type": "code",
   "execution_count": 13,
   "metadata": {
    "colab": {
     "base_uri": "https://localhost:8080/",
     "height": 316
    },
    "id": "fXnb9qmcoKZx",
    "outputId": "3911aecd-ac01-488f-8066-df129dccda8a"
   },
   "outputs": [
    {
     "data": {
      "text/plain": [
       "(array([ 117.,   49.,   61.,  446., 3977., 7430.,  383.,  155.,   74.,\n",
       "         108.]), array([-5., -4., -3., -2., -1.,  0.,  1.,  2.,  3.,  4.,  5.],\n",
       "       dtype=float32), <a list of 10 Patch objects>)"
      ]
     },
     "execution_count": 13,
     "metadata": {
      "tags": []
     },
     "output_type": "execute_result"
    },
    {
     "data": {
      "image/png": "[encoded data removed]",
      "text/plain": [
       "<Figure size 432x288 with 1 Axes>"
      ]
     },
     "metadata": {
      "needs_background": "light",
      "tags": []
     },
     "output_type": "display_data"
    }
   ],
   "source": [
    "plt.hist(target[:,:,0].flatten())"
   ]
  },
  {
   "cell_type": "code",
   "execution_count": 14,
   "metadata": {
    "colab": {
     "base_uri": "https://localhost:8080/"
    },
    "id": "C0laYY-7oY8b",
    "outputId": "194f3388-3bc6-4c57-8658-9f4eaa0f06aa"
   },
   "outputs": [
    {
     "data": {
      "text/plain": [
       "(tensor(0.9052), tensor(-0.0352))"
      ]
     },
     "execution_count": 14,
     "metadata": {
      "tags": []
     },
     "output_type": "execute_result"
    }
   ],
   "source": [
    "target[:,:,0].flatten().std(), target[:,:,0].flatten().mean()"
   ]
  },
  {
   "cell_type": "code",
   "execution_count": 15,
   "metadata": {
    "id": "q7m0pU8cJRxr"
   },
   "outputs": [],
   "source": [
    "from torchvision import transforms\n",
    "from IPython.core.display import Image as JupyterImage\n",
    "from torchvision.utils import save_image\n",
    "\n",
    "deg_to_rad = lambda x: x*0.0174533\n",
    "\n",
    "crop = transforms.CenterCrop(56)\n",
    "resize = transforms.Resize(64)\n",
    "color_jitter = transforms.ColorJitter(brightness=.5, contrast=.5, saturation=.5, hue=.5)"
   ]
  },
  {
   "cell_type": "code",
   "execution_count": 15,
   "metadata": {
    "id": "lxX94fQLYrsr"
   },
   "outputs": [],
   "source": []
  },
  {
   "cell_type": "code",
   "execution_count": 16,
   "metadata": {
    "id": "3fGbVPY-JZmz"
   },
   "outputs": [],
   "source": [
    "def get_rotated_view(front, aux, rotation):\n",
    "    front = front.clone()\n",
    "    SEQ_LEN, BS, C, H, W = front.shape\n",
    "    ff = front.reshape(SEQ_LEN*BS, C, H, W)\n",
    "    ff = transforms.RandomRotation([rotation,rotation], expand=False, center=None, fill=None)(ff)\n",
    "    ff = crop(ff)\n",
    "    ff = resize(ff)\n",
    "    #ff = color_jitter(ff)\n",
    "    ff = ff.reshape(SEQ_LEN, BS, C, H, W)\n",
    "    _aux = aux.clone()\n",
    "    _aux[:,:,0] -= deg_to_rad(rotation)\n",
    "    return ff, _aux"
   ]
  },
  {
   "cell_type": "code",
   "execution_count": 17,
   "metadata": {
    "colab": {
     "base_uri": "https://localhost:8080/"
    },
    "id": "SkCYz1rYnrv_",
    "outputId": "31de1bbf-3fe6-42a4-9594-07fd753cd54d"
   },
   "outputs": [
    {
     "name": "stdout",
     "output_type": "stream",
     "text": [
      "Queueing chunk of size torch.Size([100, 128, 3, 64, 64]) took 1.36 seconds\n"
     ]
    }
   ],
   "source": [
    "m = VizCNN(use_rnn=False, drop=.1).to(device);"
   ]
  },
  {
   "cell_type": "code",
   "execution_count": 18,
   "metadata": {
    "colab": {
     "base_uri": "https://localhost:8080/"
    },
    "id": "LEpFfPzqnrv_",
    "outputId": "bd4877d2-bab4-4ed7-8e69-2d3554522505"
   },
   "outputs": [
    {
     "data": {
      "text/plain": [
       "VizCNN(\n",
       "  (pooler): MaxPool2d(kernel_size=2, stride=2, padding=0, dilation=1, ceil_mode=False)\n",
       "  (act): ReLU()\n",
       "  (conv_1a): Conv2d(3, 16, kernel_size=(7, 7), stride=(1, 1))\n",
       "  (bn1): BatchNorm2d(16, eps=1e-05, momentum=0.1, affine=True, track_running_stats=True)\n",
       "  (conv_2a): Conv2d(16, 32, kernel_size=(5, 5), stride=(1, 1))\n",
       "  (bn2a): BatchNorm2d(32, eps=1e-05, momentum=0.1, affine=True, track_running_stats=True)\n",
       "  (conv_2b): Conv2d(32, 64, kernel_size=(5, 5), stride=(1, 1))\n",
       "  (bn2b): BatchNorm2d(64, eps=1e-05, momentum=0.1, affine=True, track_running_stats=True)\n",
       "  (conv_3a): Conv2d(64, 64, kernel_size=(5, 5), stride=(1, 1))\n",
       "  (bn3): BatchNorm2d(64, eps=1e-05, momentum=0.1, affine=True, track_running_stats=True)\n",
       "  (conv_4a): Conv2d(64, 64, kernel_size=(5, 5), stride=(1, 1))\n",
       "  (bn4): BatchNorm2d(64, eps=1e-05, momentum=0.1, affine=True, track_running_stats=True)\n",
       "  (drop): Dropout(p=0.1, inplace=False)\n",
       "  (fc0): Linear(in_features=5189, out_features=512, bias=True)\n",
       "  (fc1): Linear(in_features=512, out_features=512, bias=True)\n",
       "  (fc2): Linear(in_features=512, out_features=2, bias=True)\n",
       ")"
      ]
     },
     "execution_count": 18,
     "metadata": {
      "tags": []
     },
     "output_type": "execute_result"
    }
   ],
   "source": [
    "m"
   ]
  },
  {
   "cell_type": "code",
   "execution_count": 19,
   "metadata": {
    "id": "fGrfKBvHnrwA"
   },
   "outputs": [],
   "source": [
    "#m.load_state_dict(torch.load(\"m.torch\"))"
   ]
  },
  {
   "cell_type": "code",
   "execution_count": 20,
   "metadata": {
    "colab": {
     "base_uri": "https://localhost:8080/"
    },
    "id": "cSKugff-nrwA",
    "outputId": "fc2841e3-fe69-48cd-ead7-27c7771263b4"
   },
   "outputs": [
    {
     "data": {
      "text/plain": [
       "3192.834"
      ]
     },
     "execution_count": 20,
     "metadata": {
      "tags": []
     },
     "output_type": "execute_result"
    }
   ],
   "source": [
    "sum([torch.numel(p) for p in m.parameters()]) / 1000"
   ]
  },
  {
   "cell_type": "code",
   "execution_count": 21,
   "metadata": {
    "id": "E8HQYuV-nrwA",
    "scrolled": true
   },
   "outputs": [],
   "source": [
    "with torch.no_grad():\n",
    "    hidden = get_hidden(bs)\n",
    "    out, hidden = m(front[:6].to(device), aux[:6].to(device), hidden)"
   ]
  },
  {
   "cell_type": "code",
   "execution_count": 21,
   "metadata": {
    "id": "ozmxrdm4nrwA"
   },
   "outputs": [],
   "source": []
  },
  {
   "cell_type": "code",
   "execution_count": 22,
   "metadata": {
    "id": "pZn7t5ponrwA"
   },
   "outputs": [],
   "source": [
    "def testdrive(in_distribution=True, calibrate=False, use_training_wheels=False):\n",
    "    \n",
    "    TRAINING_WHEELS_WINDOW = 30\n",
    "    \n",
    "    t1 = time.time()\n",
    "    m.eval()\n",
    "    seq_len = 200\n",
    "    n_val = 100\n",
    "    val_env = ProcgenGym3Env(num=n_val, \n",
    "                            env_name=\"testgame\", \n",
    "                            num_levels=train_num_levels, \n",
    "                            start_level=train_start_level if in_distribution else train_start_level+train_num_levels)\n",
    "    \n",
    "    s = np.array([[.0,.0] for _ in range(n_val)], dtype=np.float32)\n",
    "    reward = 0\n",
    "    num_collisions = 0\n",
    "    wp_infractions = 0\n",
    "    successful_stops = 0\n",
    "    \n",
    "    hidden = get_hidden(n_val)\n",
    "    \n",
    "    with torch.no_grad():\n",
    "        for i in range(seq_len):\n",
    "            val_env.act(s)\n",
    "            rew, obs, first = val_env.observe()\n",
    "            reward += rew.sum()\n",
    "            img = obs['rgb']\n",
    "            info = val_env.get_info()\n",
    "            num_collisions += np.array([e['collision'] for e in info]).sum()\n",
    "            wp_infractions += np.array([e['waypoint_infraction'] for e in info]).sum()\n",
    "            successful_stops += np.array([e['successful_stop'] for e in info]).sum()\n",
    "            \n",
    "            autopilot_control = np.array([[e[\"autopilot_\"+c] for c in control_properties] for e in info])\n",
    "            \n",
    "            aux = np.array([[e[a] for a in aux_properties] for e in info])\n",
    "\n",
    "            front = torch.from_numpy(img.astype(np.float32)/255.).unsqueeze(0).permute(0,1,4,2,3).to(device)\n",
    "            aux = torch.from_numpy(aux.astype(np.float32)).unsqueeze(0).to(device)\n",
    "            front, aux = get_rotated_view(front, aux, 0) # so crop matches train\n",
    "            \n",
    "            if calibrate:\n",
    "                s = autopilot_control\n",
    "            else:\n",
    "                out, hidden = m(front, aux, hidden)\n",
    "                s = out.squeeze(0).squeeze(-1).cpu().numpy()\n",
    "                s = np.clip(s, -5., 5.)\n",
    "                s[:,1]=.6 # not learning throttle for now\n",
    "                \n",
    "            if use_training_wheels and i < TRAINING_WHEELS_WINDOW:\n",
    "                s = autopilot_control\n",
    "        \n",
    "\n",
    "    reward /= (n_val*seq_len)\n",
    "    num_collisions /= (n_val*seq_len)\n",
    "    wp_infractions /= (n_val*seq_len)\n",
    "    successful_stops /= (n_val*seq_len)\n",
    "    \n",
    "    val_env.close()\n",
    "    m.train()\n",
    "    print(f\"validation took {round(time.time()-t1)} seconds\")\n",
    "    return reward, num_collisions, wp_infractions, successful_stops"
   ]
  },
  {
   "cell_type": "code",
   "execution_count": 23,
   "metadata": {
    "colab": {
     "base_uri": "https://localhost:8080/"
    },
    "id": "X_wGg5tZnrwB",
    "outputId": "05b50cf9-5c8e-47e4-edd1-a0261e425df9"
   },
   "outputs": [
    {
     "name": "stdout",
     "output_type": "stream",
     "text": [
      "validation took 7 seconds\n"
     ]
    },
    {
     "data": {
      "text/plain": [
       "(0.1037, 0.0, 0.0, 0.0)"
      ]
     },
     "execution_count": 23,
     "metadata": {
      "tags": []
     },
     "output_type": "execute_result"
    }
   ],
   "source": [
    "testdrive(in_distribution=True, calibrate=False, use_training_wheels=False)"
   ]
  },
  {
   "cell_type": "code",
   "execution_count": 24,
   "metadata": {
    "id": "LmV9vqtMnrwC"
   },
   "outputs": [],
   "source": [
    "loss_fn = torch.nn.MSELoss().cuda()\n",
    "scaler = torch.cuda.amp.GradScaler() \n",
    "opt = torch.optim.Adam(m.parameters(), lr=1e-5)"
   ]
  },
  {
   "cell_type": "code",
   "execution_count": 25,
   "metadata": {
    "colab": {
     "base_uri": "https://localhost:8080/",
     "height": 597
    },
    "id": "Ky6etg7XnrwC",
    "outputId": "f814a5c3-f010-4f35-e99d-d0588ecd72e8",
    "scrolled": true
   },
   "outputs": [
    {
     "name": "stderr",
     "output_type": "stream",
     "text": [
      "\u001b[34m\u001b[1mwandb\u001b[0m: Currently logged in as: \u001b[33mrgilman33\u001b[0m (use `wandb login --relogin` to force relogin)\n"
     ]
    },
    {
     "data": {
      "text/html": [
       "\n",
       "                Tracking run with wandb version 0.10.23<br/>\n",
       "                Syncing run <strong style=\"color:#cdcd00\">resilient-rain-153</strong> to <a href=\"https://wandb.ai\" target=\"_blank\">Weights & Biases</a> <a href=\"https://docs.wandb.com/integrations/jupyter.html\" target=\"_blank\">(Documentation)</a>.<br/>\n",
       "                Project page: <a href=\"https://wandb.ai/rgilman33/carlita\" target=\"_blank\">https://wandb.ai/rgilman33/carlita</a><br/>\n",
       "                Run page: <a href=\"https://wandb.ai/rgilman33/carlita/runs/2xotwudw\" target=\"_blank\">https://wandb.ai/rgilman33/carlita/runs/2xotwudw</a><br/>\n",
       "                Run data is saved locally in <code>/content/carlita/wandb/run-20210328_161114-2xotwudw</code><br/><br/>\n",
       "            "
      ],
      "text/plain": [
       "<IPython.core.display.HTML object>"
      ]
     },
     "metadata": {
      "tags": []
     },
     "output_type": "display_data"
    },
    {
     "data": {
      "text/html": [
       "<h1>Run(2xotwudw)</h1><iframe src=\"https://wandb.ai/rgilman33/carlita/runs/2xotwudw\" style=\"border:none;width:100%;height:400px\"></iframe>"
      ],
      "text/plain": [
       "<wandb.sdk.wandb_run.Run at 0x7fa8b5a5c610>"
      ]
     },
     "execution_count": 25,
     "metadata": {
      "tags": []
     },
     "output_type": "execute_result"
    }
   ],
   "source": [
    "import wandb\n",
    "wandb.init(project=\"carlita\")\n",
    "#wandb.watch(m)"
   ]
  },
  {
   "cell_type": "code",
   "execution_count": 26,
   "metadata": {
    "id": "8SQaGWfZnrwC"
   },
   "outputs": [],
   "source": [
    "\n",
    "def run_epoch(train=True):\n",
    "    \n",
    "    start_time = time.time()\n",
    "    \n",
    "    # Caching baseline 'perfect' scores for val use. A bit awkward placement\n",
    "    autopilot_score_baseline_in_dist, autopilot_collisions_in_dist, _, ap_successful_stops_in = testdrive(in_distribution=True, calibrate=True)\n",
    "    #autopilot_score_baseline_out_dist, autopilot_collisions_out_dist, _, ap_successful_stops_out = testdrive(in_distribution=False, calibrate=True)\n",
    "    \n",
    "    m.train(train)\n",
    "    t1 = time.time()\n",
    "    epoch_loss, preds = [], []\n",
    "    #bs = random.choice(list(bs_bptt_lookup.keys()))\n",
    "    bptt = 1 #32 #random.choice([64, 72, 80, 88]) # increasing for 32x32 data #bs_bptt_lookup[bs]\n",
    "    \n",
    "    val_cadence = 8\n",
    "    log_cadence = 8\n",
    "    \n",
    "    global dataloader, bs\n",
    "    log_counter = 0\n",
    "    \n",
    "    while True:\n",
    "        chunk = dataloader.get_chunk() # Returns a chunk instantly, begins queuing up another chunk async\n",
    "        if not chunk: break\n",
    "        front_container, aux_container, target_container = chunk\n",
    "        chunk_len, bs, _, _, _ = front_container.shape\n",
    "        len_ix = 0\n",
    "        get_stats_container = lambda : {c:[] for c in [\"flip_consistency_loss\", \"rotation_consistency_loss\", \"steer_pred_std\",\"steer_pred_mean\", \"open_loop_loss\", \"output_shaping_loss\"]}\n",
    "        \n",
    "        chunk_stats = get_stats_container()\n",
    "\n",
    "        hidden = get_hidden(bs) # Resetting each chunk, ie each 800 steps or so. Only applicable w RNN\n",
    "        \n",
    "        clamp = lambda x: x #torch.clamp(x, -100, 100)\n",
    "\n",
    "        while len_ix < chunk_len:\n",
    "            \n",
    "            front = front_container[len_ix:len_ix+bptt, :, :, :, :].to(device).half()\n",
    "            aux = aux_container[len_ix:len_ix+bptt, :, :].to(device).half();\n",
    "            target = target_container[len_ix:len_ix+bptt, :, :].to(device).half()\n",
    "            len_ix += (bptt*8)\n",
    "\n",
    "            #######################\n",
    "            # # Supervised loss\n",
    "            # with torch.cuda.amp.autocast():\n",
    "            #     pred, hidden = m(front, aux, hidden)\n",
    "            #     pred = clamp(pred)\n",
    "            # sup_loss = loss_fn(target, pred); \n",
    "\n",
    "            # max_steer = pred[:,:,1].max().item()\n",
    "\n",
    "            with torch.no_grad():\n",
    "                with torch.cuda.amp.autocast():\n",
    "                    pred, hidden = m(front, aux, hidden)\n",
    "                    pred = clamp(pred)\n",
    "                open_loop_loss = ((target[:,:,0].detach() - pred[:,:,0])**2).mean()\n",
    "\n",
    "            steer_pred_mean, steer_pred_std = pred[:,:,0].flatten().mean(), pred[:,:,0].flatten().std()\n",
    "            #######################\n",
    "\n",
    "            #######################\n",
    "            # Unsupervised losses\n",
    "\n",
    "            # Base image\n",
    "            if random.random()<.5:\n",
    "                front_aug_0, aux_aug_0 = get_rotated_view(front, aux, 0)\n",
    "            else:\n",
    "                front_aug_0, aux_aug_0 = front, aux\n",
    "\n",
    "            with torch.cuda.amp.autocast():\n",
    "                with torch.no_grad():\n",
    "                    pred_base, _ = m(front_aug_0, aux_aug_0, '')\n",
    "\n",
    "            with torch.cuda.amp.autocast():            \n",
    "                # Flip consistency\n",
    "                aux_horflip = aux_aug_0.clone()\n",
    "                aux_horflip[:,:,0]*=-1 # flip angle to wp\n",
    "                pred_horflip, _ = m(front_aug_0.flip(-1), aux_horflip, _)\n",
    "            flip_consistency_loss = loss_fn(pred_base[:,:,0], pred_horflip[:,:,0]*-1)\n",
    "\n",
    "\n",
    "            # # Output shaping\n",
    "            output_shaping_loss = 0\n",
    "\n",
    "            def get_output_shaping_loss(pred):\n",
    "                target_mean, target_std = 0, .77\n",
    "                steer_pred_mean, steer_pred_std = pred[:,:,0].flatten().mean(), pred[:,:,0].flatten().std()\n",
    "                mse = lambda x1, x2: (x1-x2)**2\n",
    "                l = mse(target_std, steer_pred_std) + mse(target_mean, steer_pred_mean)\n",
    "                return l\n",
    "            output_shaping_loss += get_output_shaping_loss(pred_horflip)\n",
    "\n",
    "\n",
    "            # Rotation consistency \n",
    "            rotation_consistency_loss = 0\n",
    "            r = random.uniform(-20,20)\n",
    "            for rotation in [r, -r]:\n",
    "                front_aug_1, aux_aug_1 = get_rotated_view(front, aux, rotation)\n",
    "                with torch.cuda.amp.autocast(): pred_rotate, _ = m(front_aug_1, aux_aug_1, '')\n",
    "                diff = pred_rotate[:,:,0] - pred_base[:,:,0]\n",
    "                diff_target = -torch.ones_like(diff) * deg_to_rad(rotation)\n",
    "                rotation_consistency_loss += loss_fn(diff, diff_target)\n",
    "                output_shaping_loss += get_output_shaping_loss(pred_rotate)\n",
    "            \n",
    "            # These params seem to work, don't mess with them!\n",
    "            rotation_consistency_loss /= 2\n",
    "            flip_consistency_loss /= 1\n",
    "            output_shaping_loss /= 1000\n",
    "\n",
    "            loss = rotation_consistency_loss + output_shaping_loss + flip_consistency_loss\n",
    "\n",
    "            chunk_stats[\"flip_consistency_loss\"].append(flip_consistency_loss.item())\n",
    "            chunk_stats[\"rotation_consistency_loss\"].append(rotation_consistency_loss.item())\n",
    "            chunk_stats[\"output_shaping_loss\"].append(output_shaping_loss.item())\n",
    "            chunk_stats[\"steer_pred_std\"].append(steer_pred_std.item())\n",
    "            chunk_stats[\"steer_pred_mean\"].append(steer_pred_mean.item())\n",
    "            chunk_stats[\"open_loop_loss\"].append(open_loop_loss.item())\n",
    "\n",
    "            #######################\n",
    "                \n",
    "            if train:\n",
    "                # Scales the loss, and calls backward() to create scaled gradients \n",
    "                scaler.scale(loss).backward() \n",
    "                \n",
    "                # Unscales the gradients of optimizer's assigned params in-place\n",
    "                scaler.unscale_(opt)\n",
    "                # Since the gradients of optimizer's assigned params are unscaled, clips as usual:\n",
    "                torch.nn.utils.clip_grad_norm_(m.parameters(), 5.)\n",
    "        \n",
    "                # Unscales gradients and calls or skips optimizer.step() \n",
    "                scaler.step(opt) \n",
    "                # Updates the scale for next iteration \n",
    "                scaler.update() \n",
    "                opt.zero_grad()\n",
    "                \n",
    "            hidden = (hidden[0].detach(), hidden[1].detach())\n",
    "\n",
    "        # Save and report at end of each chunk\n",
    "        t2 = time.time()\n",
    "        #chunk_loss = np.round(np.array(chunk_loss).mean(), 4)\n",
    "\n",
    "        for cc in chunk_stats.keys(): chunk_stats[cc] = np.round(np.array(chunk_stats[cc]).mean(), 8)\n",
    "        print(chunk_stats)\n",
    "        print(\"max m param\", max([p.max().item() for p in m.parameters()]))\n",
    "        print(\"\\n\")\n",
    "\n",
    "        #epoch_loss.append(chunk_loss)\n",
    "        total_seconds = round(t2 - t1)\n",
    "        \n",
    "        if train and log_counter % log_cadence == 0 and log_counter>1: \n",
    "            \n",
    "            current_time = time.time()\n",
    "            torch.save(m.state_dict(), 'm.torch')\n",
    "            print(f'Done with chunk. Training took {total_seconds} seconds\\n')\n",
    "            \n",
    "        if log_counter % val_cadence == 0 and log_counter>1:\n",
    "            val_score_in_dist, collisions_in_dist, wp_infractions_in_dist, stops_in = testdrive(in_distribution=True, use_training_wheels=False)\n",
    "            val_score_in_dist /= autopilot_score_baseline_in_dist\n",
    "            \n",
    "            chunk_stats[\"val score\"] = np.round(val_score_in_dist,2)\n",
    "            print(\"val score\", chunk_stats[\"val score\"])\n",
    "\n",
    "            wandb.log(chunk_stats)\n",
    "        chunk_stats = get_stats_container()\n",
    "            \n",
    "        t1 = t2\n",
    "        log_counter+=1\n",
    "    \n",
    "    #loss = np.array(epoch_loss).mean()\n",
    "        \n",
    "    return '' #loss"
   ]
  },
  {
   "cell_type": "code",
   "execution_count": null,
   "metadata": {
    "id": "I4XI2ggenrwG",
    "scrolled": true
   },
   "outputs": [],
   "source": [
    "run_epoch()"
   ]
  },
  {
   "cell_type": "code",
   "execution_count": null,
   "metadata": {
    "id": "bmU75l7hvjRH"
   },
   "outputs": [],
   "source": []
  },
  {
   "cell_type": "code",
   "execution_count": 46,
   "metadata": {
    "id": "eNTGxzVbiAR1"
   },
   "outputs": [],
   "source": [
    "ll = 128\n",
    "b_ix = 28\n",
    "ff = front[:ll, b_ix:b_ix+1, :,:,:].to(device)\n",
    "aa = aux[:ll, b_ix:b_ix+1, :].to(device)\n",
    "tt = target[:ll, b_ix:b_ix+1, :].to(device)"
   ]
  },
  {
   "cell_type": "code",
   "execution_count": 47,
   "metadata": {
    "id": "qQBw9znvnrwJ"
   },
   "outputs": [],
   "source": [
    "with torch.no_grad():\n",
    "    m.eval()\n",
    "    out, _ = m(ff, aa, \"\")\n",
    "    m.train()"
   ]
  },
  {
   "cell_type": "code",
   "execution_count": 48,
   "metadata": {
    "colab": {
     "base_uri": "https://localhost:8080/",
     "height": 282
    },
    "id": "2WuWU9YejleE",
    "outputId": "fa9817ce-f9dd-461e-db1c-3ff85ef241e8"
   },
   "outputs": [
    {
     "data": {
      "text/plain": [
       "[<matplotlib.lines.Line2D at 0x7fa8b3362150>]"
      ]
     },
     "execution_count": 48,
     "metadata": {
      "tags": []
     },
     "output_type": "execute_result"
    },
    {
     "data": {
      "image/png": "[encoded data removed]",
      "text/plain": [
       "<Figure size 432x288 with 1 Axes>"
      ]
     },
     "metadata": {
      "needs_background": "light",
      "tags": []
     },
     "output_type": "display_data"
    }
   ],
   "source": [
    "plt.plot(out[:,0,0].cpu().numpy())\n",
    "plt.plot(tt[:,0,0].cpu().numpy())"
   ]
  },
  {
   "cell_type": "code",
   "execution_count": null,
   "metadata": {
    "id": "cdNyhC0QnrwJ"
   },
   "outputs": [],
   "source": [
    "save_image(ff[:,0,:,:,:], 'sample_image.png')\n",
    "JupyterImage('sample_image.png')"
   ]
  },
  {
   "cell_type": "code",
   "execution_count": null,
   "metadata": {
    "id": "_KpcEzDqgown"
   },
   "outputs": [],
   "source": []
  }
 ],
 "metadata": {
  "accelerator": "GPU",
  "colab": {
   "collapsed_sections": [],
   "machine_shape": "hm",
   "name": "consistency training",
   "provenance": []
  },
  "kernelspec": {
   "display_name": "Python 3",
   "language": "python",
   "name": "python3"
  },
  "language_info": {
   "codemirror_mode": {
    "name": "ipython",
    "version": 3
   },
   "file_extension": ".py",
   "mimetype": "text/x-python",
   "name": "python",
   "nbconvert_exporter": "python",
   "pygments_lexer": "ipython3",
   "version": "3.7.3"
  }
 },
 "nbformat": 4,
 "nbformat_minor": 1
}
