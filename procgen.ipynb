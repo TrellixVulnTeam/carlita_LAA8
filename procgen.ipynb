{
 "cells": [
  {
   "cell_type": "code",
   "execution_count": 2,
   "metadata": {},
   "outputs": [],
   "source": [
    "from gym3.libenv import CEnv"
   ]
  },
  {
   "cell_type": "code",
   "execution_count": 3,
   "metadata": {},
   "outputs": [],
   "source": [
    "import gym3\n",
    "from procgen import ProcgenGym3Env\n",
    "import numpy as np"
   ]
  },
  {
   "cell_type": "code",
   "execution_count": 4,
   "metadata": {},
   "outputs": [
    {
     "name": "stdout",
     "output_type": "stream",
     "text": [
      "building procgen...done\n"
     ]
    }
   ],
   "source": [
    "env = ProcgenGym3Env(num=2, env_name=\"testgame\", render_mode=\"rgb_array\")\n",
    "env = gym3.ViewerWrapper(env, info_key=\"rgb\")\n",
    "step = 0"
   ]
  },
  {
   "cell_type": "code",
   "execution_count": 5,
   "metadata": {},
   "outputs": [
    {
     "data": {
      "text/plain": [
       "array([ 0.48941335, -0.5984311 ], dtype=float32)"
      ]
     },
     "execution_count": 5,
     "metadata": {},
     "output_type": "execute_result"
    }
   ],
   "source": [
    "s = gym3.types_np.sample(env.ac_space, bshape=(env.num,))\n",
    "s"
   ]
  },
  {
   "cell_type": "code",
   "execution_count": 6,
   "metadata": {},
   "outputs": [],
   "source": [
    "s = np.array([.3, .2], dtype=np.float32)"
   ]
  },
  {
   "cell_type": "code",
   "execution_count": 7,
   "metadata": {},
   "outputs": [
    {
     "data": {
      "text/plain": [
       "array([0.3, 0.2], dtype=float32)"
      ]
     },
     "execution_count": 7,
     "metadata": {},
     "output_type": "execute_result"
    }
   ],
   "source": [
    "s"
   ]
  },
  {
   "cell_type": "code",
   "execution_count": 9,
   "metadata": {},
   "outputs": [
    {
     "name": "stdout",
     "output_type": "stream",
     "text": [
      "step 545 reward [0. 0.] first [False False] steer [-0.24778408, 0.0]\n",
      "step 546 reward [1. 1.] first [False False] steer [-0.21359974, 0.0]\n",
      "step 547 reward [0. 1.] first [False False] steer [-0.214508, 0.0]\n",
      "step 548 reward [1. 0.] first [False False] steer [-0.17807668, 0.0]\n",
      "step 549 reward [0. 1.] first [False False] steer [-0.15829161, 0.0]\n",
      "step 550 reward [1. 0.] first [False False] steer [0.0, 0.0]\n",
      "step 551 reward [0. 1.] first [False False] steer [0.0, 0.12807545]\n",
      "step 552 reward [1. 0.] first [False False] steer [0.0, 0.14421535]\n",
      "step 553 reward [0. 1.] first [False False] steer [-0.12919196, 0.12930822]\n",
      "step 554 reward [1. 0.] first [False False] steer [0.0, 0.0]\n",
      "step 555 reward [0. 1.] first [False False] steer [0.0, 0.0]\n",
      "step 556 reward [1. 0.] first [False False] steer [0.0, 0.0]\n",
      "step 557 reward [0. 1.] first [False False] steer [0.0, 0.13774124]\n",
      "step 558 reward [1. 0.] first [False False] steer [-0.13287662, 0.0]\n",
      "step 559 reward [1. 1.] first [False False] steer [0.0, 0.12789088]\n",
      "step 560 reward [0. 0.] first [False False] steer [0.0, 0.0]\n",
      "step 561 reward [1. 1.] first [False False] steer [0.0, 0.0]\n",
      "step 562 reward [0. 0.] first [False False] steer [0.0, 0.0]\n",
      "step 563 reward [1. 1.] first [False False] steer [0.0, 0.0]\n",
      "step 564 reward [1. 0.] first [False False] steer [0.0, 0.0]\n",
      "step 565 reward [1. 1.] first [False False] steer [-0.52041185, 0.0]\n",
      "step 566 reward [1. 1.] first [False False] steer [-0.89583665, 0.0]\n",
      "step 567 reward [1. 0.] first [False False] steer [-1.1007223, 0.0]\n",
      "step 568 reward [0. 1.] first [False False] steer [-1.1101036, 0.0]\n",
      "step 569 reward [1. 0.] first [False False] steer [-0.92031485, 0.0]\n",
      "step 570 reward [0. 1.] first [False False] steer [-0.77771235, 0.0]\n",
      "step 571 reward [0. 1.] first [False False] steer [-0.5930914, -0.2465343]\n",
      "step 572 reward [1. 1.] first [False False] steer [-0.44524667, -0.6810571]\n",
      "step 573 reward [0. 1.] first [False False] steer [-0.30766177, -1.043653]\n",
      "step 574 reward [1. 1.] first [False False] steer [-0.21611416, -1.1961769]\n",
      "step 575 reward [0. 0.] first [False False] steer [0.0, -1.1466655]\n",
      "step 576 reward [1. 0.] first [False False] steer [0.0, -0.9280367]\n",
      "step 577 reward [0. 1.] first [False False] steer [0.0, -0.72564507]\n",
      "step 578 reward [1. 0.] first [False False] steer [0.0, -0.56150436]\n",
      "step 579 reward [0. 0.] first [False False] steer [0.0, -0.41195214]\n",
      "step 580 reward [1. 1.] first [False False] steer [0.0, -0.30263665]\n",
      "step 581 reward [0. 0.] first [False False] steer [0.0, -0.17475402]\n",
      "step 582 reward [1. 1.] first [False False] steer [0.0, 0.0]\n",
      "step 583 reward [0. 0.] first [False False] steer [0.0, 0.0]\n",
      "step 584 reward [1. 1.] first [False False] steer [0.0, 0.0]\n",
      "step 585 reward [0. 0.] first [False False] steer [0.0, 0.0]\n",
      "step 586 reward [1. 1.] first [False False] steer [0.14274518, 0.0]\n",
      "step 587 reward [0. 0.] first [False False] steer [0.14064239, 0.0]\n",
      "step 588 reward [1. 1.] first [False False] steer [0.0, 0.0]\n",
      "step 589 reward [0. 0.] first [False False] steer [0.0, 0.0]\n",
      "step 590 reward [1. 1.] first [False False] steer [0.1294251, 0.14037776]\n",
      "step 591 reward [0. 0.] first [False False] steer [0.0, 0.14893462]\n",
      "step 592 reward [1. 1.] first [False False] steer [0.0, 0.13400489]\n",
      "step 593 reward [0. 1.] first [False False] steer [0.0, 0.0]\n",
      "step 594 reward [1. 1.] first [False False] steer [0.0, 0.5572276]\n",
      "step 595 reward [1. 1.] first [False False] steer [-0.27145872, 0.9232215]\n",
      "step 596 reward [1. 1.] first [False False] steer [-0.71916306, 1.0912551]\n",
      "step 597 reward [1. 0.] first [False False] steer [-1.0546091, 1.0666913]\n",
      "step 598 reward [1. 1.] first [False False] steer [-1.1674286, 0.87655157]\n",
      "step 599 reward [0. 0.] first [False False] steer [-1.0923777, 0.7192702]\n",
      "step 600 reward [0. 0.] first [False False] steer [-0.8741288, 0.5426904]\n",
      "step 601 reward [1. 1.] first [False False] steer [-0.6753572, 0.40362805]\n",
      "step 602 reward [0. 0.] first [False False] steer [-0.5100506, 0.26290125]\n",
      "step 603 reward [0. 1.] first [False False] steer [-0.36745203, 0.17945062]\n",
      "step 604 reward [1. 0.] first [False False] steer [-0.26409853, 0.0]\n",
      "step 605 reward [0. 1.] first [False False] steer [-0.14324303, 0.0]\n",
      "step 606 reward [1. 0.] first [False False] steer [0.0, 0.0]\n",
      "step 607 reward [0. 1.] first [False False] steer [0.0, 0.0]\n",
      "step 608 reward [1. 0.] first [False False] steer [0.0, 0.0]\n",
      "step 609 reward [0. 1.] first [False False] steer [0.0, 0.0]\n",
      "step 610 reward [1. 0.] first [False False] steer [0.0, 0.0]\n",
      "step 611 reward [0. 1.] first [False False] steer [0.0, 0.0]\n",
      "step 612 reward [1. 0.] first [False False] steer [0.0, -0.15350288]\n",
      "step 613 reward [0. 1.] first [False False] steer [0.13828492, -0.14709191]\n",
      "step 614 reward [1. 0.] first [False False] steer [0.13245861, -0.13499185]\n",
      "step 615 reward [1. 1.] first [False False] steer [0.0, 0.0]\n",
      "step 616 reward [1. 1.] first [False False] steer [0.0, 0.0]\n",
      "step 617 reward [0. 1.] first [False False] steer [0.0, -0.3526636]\n"
     ]
    },
    {
     "ename": "KeyboardInterrupt",
     "evalue": "",
     "output_type": "error",
     "traceback": [
      "\u001b[0;31m---------------------------------------------------------------------------\u001b[0m",
      "\u001b[0;31mKeyboardInterrupt\u001b[0m                         Traceback (most recent call last)",
      "\u001b[0;32m<ipython-input-9-fccea3293f2a>\u001b[0m in \u001b[0;36m<module>\u001b[0;34m\u001b[0m\n\u001b[1;32m      1\u001b[0m \u001b[0;32mwhile\u001b[0m \u001b[0;32mTrue\u001b[0m\u001b[0;34m:\u001b[0m\u001b[0;34m\u001b[0m\u001b[0;34m\u001b[0m\u001b[0m\n\u001b[0;32m----> 2\u001b[0;31m     \u001b[0menv\u001b[0m\u001b[0;34m.\u001b[0m\u001b[0mact\u001b[0m\u001b[0;34m(\u001b[0m\u001b[0ms\u001b[0m\u001b[0;34m)\u001b[0m\u001b[0;34m\u001b[0m\u001b[0;34m\u001b[0m\u001b[0m\n\u001b[0m\u001b[1;32m      3\u001b[0m     \u001b[0mrew\u001b[0m\u001b[0;34m,\u001b[0m \u001b[0mobs\u001b[0m\u001b[0;34m,\u001b[0m \u001b[0mfirst\u001b[0m \u001b[0;34m=\u001b[0m \u001b[0menv\u001b[0m\u001b[0;34m.\u001b[0m\u001b[0mobserve\u001b[0m\u001b[0;34m(\u001b[0m\u001b[0;34m)\u001b[0m\u001b[0;34m\u001b[0m\u001b[0;34m\u001b[0m\u001b[0m\n\u001b[1;32m      4\u001b[0m     \u001b[0minfo\u001b[0m \u001b[0;34m=\u001b[0m \u001b[0menv\u001b[0m\u001b[0;34m.\u001b[0m\u001b[0mget_info\u001b[0m\u001b[0;34m(\u001b[0m\u001b[0;34m)\u001b[0m\u001b[0;34m\u001b[0m\u001b[0;34m\u001b[0m\u001b[0m\n\u001b[1;32m      5\u001b[0m     \u001b[0msteer\u001b[0m \u001b[0;34m=\u001b[0m \u001b[0;34m[\u001b[0m\u001b[0me\u001b[0m\u001b[0;34m[\u001b[0m\u001b[0;34m'autopilot_steer'\u001b[0m\u001b[0;34m]\u001b[0m \u001b[0;32mfor\u001b[0m \u001b[0me\u001b[0m \u001b[0;32min\u001b[0m \u001b[0menv\u001b[0m\u001b[0;34m.\u001b[0m\u001b[0mget_info\u001b[0m\u001b[0;34m(\u001b[0m\u001b[0;34m)\u001b[0m\u001b[0;34m]\u001b[0m\u001b[0;34m\u001b[0m\u001b[0;34m\u001b[0m\u001b[0m\n",
      "\u001b[0;32m~/miniconda3/envs/procgen/lib/python3.7/site-packages/gym3/viewer.py\u001b[0m in \u001b[0;36mact\u001b[0;34m(self, ac)\u001b[0m\n\u001b[1;32m    108\u001b[0m                 \u001b[0;32mor\u001b[0m \u001b[0mself\u001b[0m\u001b[0;34m.\u001b[0m\u001b[0m_renderer\u001b[0m\u001b[0;34m.\u001b[0m\u001b[0mget_time\u001b[0m\u001b[0;34m(\u001b[0m\u001b[0;34m)\u001b[0m \u001b[0;34m-\u001b[0m \u001b[0mself\u001b[0m\u001b[0;34m.\u001b[0m\u001b[0m_last_frame_time\u001b[0m \u001b[0;34m>\u001b[0m \u001b[0;36m1\u001b[0m\u001b[0;34m\u001b[0m\u001b[0;34m\u001b[0m\u001b[0m\n\u001b[1;32m    109\u001b[0m             ):\n\u001b[0;32m--> 110\u001b[0;31m                 \u001b[0mself\u001b[0m\u001b[0;34m.\u001b[0m\u001b[0m_render_image\u001b[0m\u001b[0;34m(\u001b[0m\u001b[0mimage\u001b[0m\u001b[0;34m)\u001b[0m\u001b[0;34m\u001b[0m\u001b[0;34m\u001b[0m\u001b[0m\n\u001b[0m\u001b[1;32m    111\u001b[0m \u001b[0;34m\u001b[0m\u001b[0m\n\u001b[1;32m    112\u001b[0m             \u001b[0;32mif\u001b[0m \u001b[0;34m\"F\"\u001b[0m \u001b[0;32min\u001b[0m \u001b[0mkeys_clicked\u001b[0m\u001b[0;34m:\u001b[0m\u001b[0;34m\u001b[0m\u001b[0;34m\u001b[0m\u001b[0m\n",
      "\u001b[0;32m~/miniconda3/envs/procgen/lib/python3.7/site-packages/gym3/viewer.py\u001b[0m in \u001b[0;36m_render_image\u001b[0;34m(self, image)\u001b[0m\n\u001b[1;32m     63\u001b[0m     \u001b[0;32mdef\u001b[0m \u001b[0m_render_image\u001b[0m\u001b[0;34m(\u001b[0m\u001b[0mself\u001b[0m\u001b[0;34m,\u001b[0m \u001b[0mimage\u001b[0m\u001b[0;34m:\u001b[0m \u001b[0mnp\u001b[0m\u001b[0;34m.\u001b[0m\u001b[0marray\u001b[0m\u001b[0;34m)\u001b[0m \u001b[0;34m->\u001b[0m \u001b[0;32mNone\u001b[0m\u001b[0;34m:\u001b[0m\u001b[0;34m\u001b[0m\u001b[0;34m\u001b[0m\u001b[0m\n\u001b[1;32m     64\u001b[0m         self._renderer.draw_bitmap(\n\u001b[0;32m---> 65\u001b[0;31m             \u001b[0;36m0\u001b[0m\u001b[0;34m,\u001b[0m \u001b[0;36m0\u001b[0m\u001b[0;34m,\u001b[0m \u001b[0mself\u001b[0m\u001b[0;34m.\u001b[0m\u001b[0m_renderer\u001b[0m\u001b[0;34m.\u001b[0m\u001b[0mwidth\u001b[0m\u001b[0;34m,\u001b[0m \u001b[0mself\u001b[0m\u001b[0;34m.\u001b[0m\u001b[0m_renderer\u001b[0m\u001b[0;34m.\u001b[0m\u001b[0mheight\u001b[0m\u001b[0;34m,\u001b[0m \u001b[0mimage\u001b[0m\u001b[0;34m=\u001b[0m\u001b[0mimage\u001b[0m\u001b[0;34m\u001b[0m\u001b[0;34m\u001b[0m\u001b[0m\n\u001b[0m\u001b[1;32m     66\u001b[0m         )\n\u001b[1;32m     67\u001b[0m         \u001b[0;32mif\u001b[0m \u001b[0mself\u001b[0m\u001b[0;34m.\u001b[0m\u001b[0m_paused\u001b[0m\u001b[0;34m:\u001b[0m\u001b[0;34m\u001b[0m\u001b[0;34m\u001b[0m\u001b[0m\n",
      "\u001b[0;32m~/miniconda3/envs/procgen/lib/python3.7/site-packages/gym3/internal/renderer.py\u001b[0m in \u001b[0;36mdraw_bitmap\u001b[0;34m(self, x, y, w, h, image, antialias, alpha)\u001b[0m\n\u001b[1;32m    219\u001b[0m             \u001b[0msize\u001b[0m\u001b[0;34m=\u001b[0m\u001b[0;34m(\u001b[0m\u001b[0mimage\u001b[0m\u001b[0;34m.\u001b[0m\u001b[0mshape\u001b[0m\u001b[0;34m[\u001b[0m\u001b[0;36m1\u001b[0m\u001b[0;34m]\u001b[0m\u001b[0;34m,\u001b[0m \u001b[0mimage\u001b[0m\u001b[0;34m.\u001b[0m\u001b[0mshape\u001b[0m\u001b[0;34m[\u001b[0m\u001b[0;36m0\u001b[0m\u001b[0;34m]\u001b[0m\u001b[0;34m)\u001b[0m\u001b[0;34m,\u001b[0m\u001b[0;34m\u001b[0m\u001b[0;34m\u001b[0m\u001b[0m\n\u001b[1;32m    220\u001b[0m             \u001b[0mcomponents\u001b[0m\u001b[0;34m=\u001b[0m\u001b[0mimage\u001b[0m\u001b[0;34m.\u001b[0m\u001b[0mshape\u001b[0m\u001b[0;34m[\u001b[0m\u001b[0;36m2\u001b[0m\u001b[0;34m]\u001b[0m\u001b[0;34m,\u001b[0m\u001b[0;34m\u001b[0m\u001b[0;34m\u001b[0m\u001b[0m\n\u001b[0;32m--> 221\u001b[0;31m             \u001b[0mdata\u001b[0m\u001b[0;34m=\u001b[0m\u001b[0mimage\u001b[0m\u001b[0;34m.\u001b[0m\u001b[0mtobytes\u001b[0m\u001b[0;34m(\u001b[0m\u001b[0;34m)\u001b[0m\u001b[0;34m,\u001b[0m\u001b[0;34m\u001b[0m\u001b[0;34m\u001b[0m\u001b[0m\n\u001b[0m\u001b[1;32m    222\u001b[0m         )\n\u001b[1;32m    223\u001b[0m         \u001b[0;32mif\u001b[0m \u001b[0;32mnot\u001b[0m \u001b[0mantialias\u001b[0m\u001b[0;34m:\u001b[0m\u001b[0;34m\u001b[0m\u001b[0;34m\u001b[0m\u001b[0m\n",
      "\u001b[0;32m~/miniconda3/envs/procgen/lib/python3.7/site-packages/moderngl/context.py\u001b[0m in \u001b[0;36mtexture\u001b[0;34m(self, size, components, data, samples, alignment, dtype)\u001b[0m\n\u001b[1;32m    831\u001b[0m \u001b[0;34m\u001b[0m\u001b[0m\n\u001b[1;32m    832\u001b[0m         \u001b[0mres\u001b[0m \u001b[0;34m=\u001b[0m \u001b[0mTexture\u001b[0m\u001b[0;34m.\u001b[0m\u001b[0m__new__\u001b[0m\u001b[0;34m(\u001b[0m\u001b[0mTexture\u001b[0m\u001b[0;34m)\u001b[0m\u001b[0;34m\u001b[0m\u001b[0;34m\u001b[0m\u001b[0m\n\u001b[0;32m--> 833\u001b[0;31m         \u001b[0mres\u001b[0m\u001b[0;34m.\u001b[0m\u001b[0mmglo\u001b[0m\u001b[0;34m,\u001b[0m \u001b[0mres\u001b[0m\u001b[0;34m.\u001b[0m\u001b[0m_glo\u001b[0m \u001b[0;34m=\u001b[0m \u001b[0mself\u001b[0m\u001b[0;34m.\u001b[0m\u001b[0mmglo\u001b[0m\u001b[0;34m.\u001b[0m\u001b[0mtexture\u001b[0m\u001b[0;34m(\u001b[0m\u001b[0msize\u001b[0m\u001b[0;34m,\u001b[0m \u001b[0mcomponents\u001b[0m\u001b[0;34m,\u001b[0m \u001b[0mdata\u001b[0m\u001b[0;34m,\u001b[0m \u001b[0msamples\u001b[0m\u001b[0;34m,\u001b[0m \u001b[0malignment\u001b[0m\u001b[0;34m,\u001b[0m \u001b[0mdtype\u001b[0m\u001b[0;34m)\u001b[0m\u001b[0;34m\u001b[0m\u001b[0;34m\u001b[0m\u001b[0m\n\u001b[0m\u001b[1;32m    834\u001b[0m         \u001b[0mres\u001b[0m\u001b[0;34m.\u001b[0m\u001b[0m_size\u001b[0m \u001b[0;34m=\u001b[0m \u001b[0msize\u001b[0m\u001b[0;34m\u001b[0m\u001b[0;34m\u001b[0m\u001b[0m\n\u001b[1;32m    835\u001b[0m         \u001b[0mres\u001b[0m\u001b[0;34m.\u001b[0m\u001b[0m_components\u001b[0m \u001b[0;34m=\u001b[0m \u001b[0mcomponents\u001b[0m\u001b[0;34m\u001b[0m\u001b[0;34m\u001b[0m\u001b[0m\n",
      "\u001b[0;31mKeyboardInterrupt\u001b[0m: "
     ]
    }
   ],
   "source": [
    "\n",
    "while True:\n",
    "    env.act(s)\n",
    "    rew, obs, first = env.observe()\n",
    "    info = env.get_info()\n",
    "    steer = [e['autopilot_steer'] for e in env.get_info()]\n",
    "    print(f\"step {step} reward {rew} first {first} steer {steer}\")\n",
    "    step += 1"
   ]
  },
  {
   "cell_type": "code",
   "execution_count": 6,
   "metadata": {
    "scrolled": true
   },
   "outputs": [],
   "source": [
    "info = env.get_info()"
   ]
  },
  {
   "cell_type": "code",
   "execution_count": 12,
   "metadata": {
    "scrolled": true
   },
   "outputs": [
    {
     "data": {
      "text/plain": [
       "{'prev_level_seed': 825306077,\n",
       " 'prev_level_complete': 0,\n",
       " 'level_seed': 825306077,\n",
       " 'autopilot_steer': 0.0,\n",
       " 'rgb': array([[[ 86,  98, 164],\n",
       "         [ 86,  98, 164],\n",
       "         [ 86,  98, 164],\n",
       "         ...,\n",
       "         [ 98,  84, 162],\n",
       "         [ 98,  84, 162],\n",
       "         [ 98,  84, 162]],\n",
       " \n",
       "        [[ 86,  98, 164],\n",
       "         [ 86,  98, 164],\n",
       "         [ 86,  98, 164],\n",
       "         ...,\n",
       "         [ 98,  84, 162],\n",
       "         [ 98,  84, 162],\n",
       "         [ 98,  84, 162]],\n",
       " \n",
       "        [[ 86,  98, 164],\n",
       "         [ 86,  98, 164],\n",
       "         [ 86,  98, 164],\n",
       "         ...,\n",
       "         [ 98,  84, 162],\n",
       "         [ 98,  84, 162],\n",
       "         [ 98,  84, 162]],\n",
       " \n",
       "        ...,\n",
       " \n",
       "        [[ 84,  90, 161],\n",
       "         [ 84,  90, 161],\n",
       "         [ 84,  90, 161],\n",
       "         ...,\n",
       "         [ 92,  72, 157],\n",
       "         [ 92,  72, 157],\n",
       "         [ 92,  72, 157]],\n",
       " \n",
       "        [[ 84,  90, 161],\n",
       "         [ 84,  90, 161],\n",
       "         [ 84,  90, 161],\n",
       "         ...,\n",
       "         [ 92,  72, 157],\n",
       "         [ 92,  72, 157],\n",
       "         [ 92,  72, 157]],\n",
       " \n",
       "        [[ 84,  90, 161],\n",
       "         [ 84,  90, 161],\n",
       "         [ 84,  90, 161],\n",
       "         ...,\n",
       "         [ 92,  72, 157],\n",
       "         [ 92,  72, 157],\n",
       "         [ 92,  72, 157]]], dtype=uint8)}"
      ]
     },
     "execution_count": 12,
     "metadata": {},
     "output_type": "execute_result"
    }
   ],
   "source": [
    "info[0]"
   ]
  },
  {
   "cell_type": "code",
   "execution_count": 20,
   "metadata": {},
   "outputs": [
    {
     "ename": "AttributeError",
     "evalue": "'list' object has no attribute 'astype'",
     "output_type": "error",
     "traceback": [
      "\u001b[0;31m---------------------------------------------------------------------------\u001b[0m",
      "\u001b[0;31mAttributeError\u001b[0m                            Traceback (most recent call last)",
      "\u001b[0;32m<ipython-input-20-0b313044db0f>\u001b[0m in \u001b[0;36m<module>\u001b[0;34m\u001b[0m\n\u001b[0;32m----> 1\u001b[0;31m \u001b[0menv\u001b[0m\u001b[0;34m.\u001b[0m\u001b[0mact\u001b[0m\u001b[0;34m(\u001b[0m\u001b[0;34m[\u001b[0m\u001b[0;36m0\u001b[0m \u001b[0;32mfor\u001b[0m \u001b[0m_\u001b[0m \u001b[0;32min\u001b[0m \u001b[0mrange\u001b[0m\u001b[0;34m(\u001b[0m\u001b[0;36m10\u001b[0m\u001b[0;34m)\u001b[0m\u001b[0;34m]\u001b[0m\u001b[0;34m)\u001b[0m\u001b[0;34m\u001b[0m\u001b[0;34m\u001b[0m\u001b[0m\n\u001b[0m",
      "\u001b[0;32m~/procgen/procgen/env.py\u001b[0m in \u001b[0;36mact\u001b[0;34m(self, ac)\u001b[0m\n\u001b[1;32m    199\u001b[0m         \u001b[0;31m# tensorflow may return int64 actions (https://github.com/openai/gym/blob/master/gym/spaces/discrete.py#L13)\u001b[0m\u001b[0;34m\u001b[0m\u001b[0;34m\u001b[0m\u001b[0;34m\u001b[0m\u001b[0m\n\u001b[1;32m    200\u001b[0m         \u001b[0;31m# so always cast actions to int32\u001b[0m\u001b[0;34m\u001b[0m\u001b[0;34m\u001b[0m\u001b[0;34m\u001b[0m\u001b[0m\n\u001b[0;32m--> 201\u001b[0;31m         \u001b[0;32mreturn\u001b[0m \u001b[0msuper\u001b[0m\u001b[0;34m(\u001b[0m\u001b[0;34m)\u001b[0m\u001b[0;34m.\u001b[0m\u001b[0mact\u001b[0m\u001b[0;34m(\u001b[0m\u001b[0;34m{\u001b[0m\u001b[0;34m\"action\"\u001b[0m\u001b[0;34m:\u001b[0m \u001b[0mac\u001b[0m\u001b[0;34m.\u001b[0m\u001b[0mastype\u001b[0m\u001b[0;34m(\u001b[0m\u001b[0mnp\u001b[0m\u001b[0;34m.\u001b[0m\u001b[0mint32\u001b[0m\u001b[0;34m)\u001b[0m\u001b[0;34m}\u001b[0m\u001b[0;34m)\u001b[0m\u001b[0;34m\u001b[0m\u001b[0;34m\u001b[0m\u001b[0m\n\u001b[0m\u001b[1;32m    202\u001b[0m \u001b[0;34m\u001b[0m\u001b[0m\n\u001b[1;32m    203\u001b[0m \u001b[0;34m\u001b[0m\u001b[0m\n",
      "\u001b[0;31mAttributeError\u001b[0m: 'list' object has no attribute 'astype'"
     ]
    }
   ],
   "source": [
    "env.act([0 for _ in range(10)])"
   ]
  },
  {
   "cell_type": "code",
   "execution_count": 19,
   "metadata": {},
   "outputs": [
    {
     "data": {
      "text/plain": [
       "<CEnv lib_path=/home/beans/procgen/procgen/.build/relwithdebinfo/libenv.so options={'center_agent': True, 'use_generated_assets': False, 'use_monochrome_assets': False, 'restrict_themes': False, 'use_backgrounds': True, 'paint_vel_info': False, 'distribution_mode': 1, 'env_name': 'testgame', 'num_levels': 0, 'start_level': 0, 'num_actions': 15, 'use_sequential_levels': False, 'debug_mode': 0, 'rand_seed': 1765644620, 'num_threads': 4, 'render_human': False, 'resource_root': '/home/beans/procgen/procgen/data/assets/'}>"
      ]
     },
     "execution_count": 19,
     "metadata": {},
     "output_type": "execute_result"
    }
   ],
   "source": [
    "env"
   ]
  },
  {
   "cell_type": "code",
   "execution_count": null,
   "metadata": {},
   "outputs": [],
   "source": []
  }
 ],
 "metadata": {
  "kernelspec": {
   "display_name": "Python 3",
   "language": "python",
   "name": "python3"
  },
  "language_info": {
   "codemirror_mode": {
    "name": "ipython",
    "version": 3
   },
   "file_extension": ".py",
   "mimetype": "text/x-python",
   "name": "python",
   "nbconvert_exporter": "python",
   "pygments_lexer": "ipython3",
   "version": "3.7.3"
  }
 },
 "nbformat": 4,
 "nbformat_minor": 4
}
