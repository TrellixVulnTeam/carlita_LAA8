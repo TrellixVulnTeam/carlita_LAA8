{
 "cells": [
  {
   "cell_type": "code",
   "execution_count": 33,
   "metadata": {
    "scrolled": true
   },
   "outputs": [
    {
     "name": "stdout",
     "output_type": "stream",
     "text": [
      "The autoreload extension is already loaded. To reload it, use:\n",
      "  %reload_ext autoreload\n"
     ]
    }
   ],
   "source": [
    "#%matplotlib inline\n",
    "%load_ext autoreload\n",
    "%autoreload 2\n",
    "\n",
    "import torch\n",
    "import torch.nn as nn\n",
    "import torch.nn.functional as F\n",
    "import numpy as np\n",
    "\n",
    "import time\n",
    "import random\n",
    "import copy\n",
    "from copy import deepcopy\n",
    "import threading\n",
    "\n",
    "from train_utils import *\n",
    "\n",
    "import matplotlib.pyplot as plt\n",
    "import cv2"
   ]
  },
  {
   "cell_type": "code",
   "execution_count": 34,
   "metadata": {},
   "outputs": [],
   "source": [
    "from torchvision import transforms\n",
    "from IPython.core.display import Image as JupyterImage\n",
    "from torchvision.utils import save_image\n",
    "\n",
    "deg_to_rad = lambda x: x*0.0174533\n",
    "\n",
    "crop = transforms.CenterCrop(48)\n",
    "resize = transforms.Resize(64)\n",
    "color_jitter = transforms.ColorJitter(brightness=.5, contrast=.5, saturation=.5, hue=.5)\n",
    "\n",
    "def get_rotated_view(front, aux, rotation):\n",
    "    front = front.clone()\n",
    "    SEQ_LEN, BS, C, H, W = front.shape\n",
    "    ff = front.reshape(SEQ_LEN*BS, C, H, W)\n",
    "    ff = transforms.functional.rotate(ff, rotation)\n",
    "    ff = crop(ff)\n",
    "    ff = resize(ff)\n",
    "    ##ff = color_jitter(ff)\n",
    "    ff = ff.reshape(SEQ_LEN, BS, C, H, W)\n",
    "    _aux = aux.clone()\n",
    "    _aux[:,:,0] -= deg_to_rad(rotation)\n",
    "    return ff, _aux"
   ]
  },
  {
   "cell_type": "code",
   "execution_count": 35,
   "metadata": {},
   "outputs": [
    {
     "data": {
      "text/plain": [
       "'1.8.1'"
      ]
     },
     "execution_count": 35,
     "metadata": {},
     "output_type": "execute_result"
    }
   ],
   "source": [
    "torch.__version__"
   ]
  },
  {
   "cell_type": "code",
   "execution_count": 36,
   "metadata": {},
   "outputs": [],
   "source": [
    "import gym3\n",
    "from procgen import ProcgenGym3Env"
   ]
  },
  {
   "cell_type": "code",
   "execution_count": 37,
   "metadata": {},
   "outputs": [],
   "source": [
    "train_num_levels = 100_000 #500 #1500\n",
    "train_start_level = 0\n",
    "color_themes_indist = [1,2,3,4,5]\n",
    "indist_backnoise = 0\n",
    "color_themes_road_indist = [1,2,3,4,5] #2"
   ]
  },
  {
   "cell_type": "code",
   "execution_count": 38,
   "metadata": {
    "scrolled": true
   },
   "outputs": [],
   "source": [
    "bs = 1\n",
    "\n",
    "# num_levels=1, start_level=6\n",
    "env = ProcgenGym3Env(num=bs, env_name=\"testgame\", render_mode='rgb_array')\n",
    "bs = 64 \n",
    "\n",
    "\n",
    "env_indist = ProcgenGym3Env(num=bs, env_name=\"testgame\", num_levels=train_num_levels, start_level=train_start_level,\n",
    "                    color_theme=color_themes_indist, color_theme_road=color_themes_road_indist,\n",
    "                    background_noise_level=indist_backnoise, render_mode='rgb_array')"
   ]
  },
  {
   "cell_type": "code",
   "execution_count": 39,
   "metadata": {},
   "outputs": [],
   "source": [
    "env = gym3.ViewerWrapper(env_indist, info_key=\"rgb\")"
   ]
  },
  {
   "cell_type": "code",
   "execution_count": 40,
   "metadata": {
    "scrolled": true
   },
   "outputs": [
    {
     "data": {
      "text/plain": [
       "VizCNN(\n",
       "  (pooler): MaxPool2d(kernel_size=2, stride=2, padding=0, dilation=1, ceil_mode=False)\n",
       "  (act): ReLU()\n",
       "  (conv_1a): Conv2d(3, 16, kernel_size=(7, 7), stride=(1, 1))\n",
       "  (bn1): BatchNorm2d(16, eps=1e-05, momentum=0.1, affine=True, track_running_stats=True)\n",
       "  (bn1_): BatchNorm2d(16, eps=1e-05, momentum=0.1, affine=True, track_running_stats=True)\n",
       "  (conv_2a): Conv2d(16, 32, kernel_size=(5, 5), stride=(1, 1))\n",
       "  (bn2a): BatchNorm2d(32, eps=1e-05, momentum=0.1, affine=True, track_running_stats=True)\n",
       "  (bn2a_): BatchNorm2d(32, eps=1e-05, momentum=0.1, affine=True, track_running_stats=True)\n",
       "  (conv_2b): Conv2d(32, 64, kernel_size=(5, 5), stride=(1, 1))\n",
       "  (bn2b): BatchNorm2d(64, eps=1e-05, momentum=0.1, affine=True, track_running_stats=True)\n",
       "  (bn2b_): BatchNorm2d(64, eps=1e-05, momentum=0.1, affine=True, track_running_stats=True)\n",
       "  (conv_3a): Conv2d(64, 64, kernel_size=(5, 5), stride=(1, 1))\n",
       "  (bn3): BatchNorm2d(64, eps=1e-05, momentum=0.1, affine=True, track_running_stats=True)\n",
       "  (bn3_): BatchNorm2d(64, eps=1e-05, momentum=0.1, affine=True, track_running_stats=True)\n",
       "  (conv_4a): Conv2d(64, 64, kernel_size=(5, 5), stride=(1, 1))\n",
       "  (bn4): BatchNorm2d(64, eps=1e-05, momentum=0.1, affine=True, track_running_stats=True)\n",
       "  (bn4_): BatchNorm2d(64, eps=1e-05, momentum=0.1, affine=True, track_running_stats=True)\n",
       "  (drop): Dropout(p=0.1, inplace=False)\n",
       "  (fc0): Linear(in_features=5189, out_features=512, bias=True)\n",
       "  (fc1): Linear(in_features=512, out_features=512, bias=True)\n",
       "  (fc2): Linear(in_features=512, out_features=2, bias=True)\n",
       ")"
      ]
     },
     "execution_count": 40,
     "metadata": {},
     "output_type": "execute_result"
    }
   ],
   "source": [
    "device = 'cuda'\n",
    "m = VizCNN(use_rnn=False).to(device);\n",
    "m.load_state_dict(torch.load(\"m.torch\"))\n",
    "m.eval()"
   ]
  },
  {
   "cell_type": "code",
   "execution_count": 41,
   "metadata": {},
   "outputs": [],
   "source": [
    "hidden = get_hidden(1)"
   ]
  },
  {
   "cell_type": "code",
   "execution_count": 42,
   "metadata": {
    "scrolled": false
   },
   "outputs": [
    {
     "name": "stdout",
     "output_type": "stream",
     "text": [
      "CPU times: user 1min 6s, sys: 7.24 s, total: 1min 13s\n",
      "Wall time: 1min 9s\n"
     ]
    }
   ],
   "source": [
    "%%time\n",
    "\n",
    "s = np.array([[.1, .2] for _ in range(bs)], dtype=np.float32)\n",
    "daggerized_controls = s\n",
    "\n",
    "seq_len = 60\n",
    "TRAINING_WHEELS_WINDOW = 50 # NOTE WE\"RE STILL JUST LETTING AP DRIVE HERE\n",
    "use_training_wheels = True\n",
    "\n",
    "act_grads = []\n",
    "imgs = []\n",
    "salmaps = []\n",
    "\n",
    "for i in range(seq_len):\n",
    "    env.act(s)\n",
    "    rew, obs, first = env.observe()\n",
    "    img = obs['rgb']\n",
    "    info = env.get_info()\n",
    "\n",
    "    aux = np.array([[e[a] for a in aux_properties] for e in info])\n",
    "    autopilot_controls = np.array([[e['autopilot_steer'], e['autopilot_throttle']] for e in info])\n",
    "\n",
    "    front = torch.from_numpy(img.astype(np.float32)/255.).unsqueeze(0).permute(0,1,4,2,3)\n",
    "    aux = torch.from_numpy(aux.astype(np.float32)).unsqueeze(0)\n",
    "    \n",
    "    front, aux = get_rotated_view(front, aux, 0)\n",
    "\n",
    "    front = front.to(device)\n",
    "    aux = aux.to(device)\n",
    "    out,hidden, salmap = m(front, aux, hidden, return_salmap=True, register_activations=True)\n",
    "    out[:,:,1]=.7\n",
    "    s = out.squeeze(0).cpu().detach().numpy()\n",
    "\n",
    "    ################################\n",
    "    baseline = torch.zeros_like(front)\n",
    "    steps = 20\n",
    "    grads = []\n",
    "\n",
    "    for i in range(0,steps+1):\n",
    "        mixed_img = baseline + (float(i)/steps)*(front-baseline)\n",
    "        m.zero_grad()\n",
    "        out, hidden, salmap = m(mixed_img, aux, hidden, return_salmap=True, register_activations=True)\n",
    "        out[0][0][0].backward(retain_graph=m.use_rnn) # Steer\n",
    "        g = m.get_activations_gradient()\n",
    "        g = g[0].mean(0).cpu().numpy()\n",
    "        grads.append(g)\n",
    "\n",
    "    avg_grads = np.stack(grads).mean(0)\n",
    "    act_grad = avg_grads\n",
    "\n",
    "    salmap = salmap[0].mean(0)\n",
    "\n",
    "    act_grads.append(act_grad * salmap)\n",
    "    #act_grads.append(salmap) # This by itself is pretty nice\n",
    "\n",
    "    ##################################\n",
    "    \n",
    "    imgs.append(img[0])\n",
    "\n",
    "    if use_training_wheels and i < TRAINING_WHEELS_WINDOW:\n",
    "        s = autopilot_controls\n",
    "        "
   ]
  },
  {
   "cell_type": "code",
   "execution_count": 43,
   "metadata": {
    "scrolled": true
   },
   "outputs": [
    {
     "data": {
      "text/plain": [
       "((50, 50), 3.9015413e-05)"
      ]
     },
     "execution_count": 43,
     "metadata": {},
     "output_type": "execute_result"
    }
   ],
   "source": [
    "act_grad.shape, act_grad.max()"
   ]
  },
  {
   "cell_type": "code",
   "execution_count": 44,
   "metadata": {},
   "outputs": [
    {
     "data": {
      "text/plain": [
       "<matplotlib.image.AxesImage at 0x7fb218ac9438>"
      ]
     },
     "execution_count": 44,
     "metadata": {},
     "output_type": "execute_result"
    },
    {
     "data": {
      "image/png": "[encoded data removed]",
      "text/plain": [
       "<Figure size 432x288 with 1 Axes>"
      ]
     },
     "metadata": {
      "needs_background": "light"
     },
     "output_type": "display_data"
    }
   ],
   "source": [
    "plt.imshow(act_grad)"
   ]
  },
  {
   "cell_type": "code",
   "execution_count": 45,
   "metadata": {},
   "outputs": [
    {
     "data": {
      "text/plain": [
       "<matplotlib.image.AxesImage at 0x7fb218a9f470>"
      ]
     },
     "execution_count": 45,
     "metadata": {},
     "output_type": "execute_result"
    },
    {
     "data": {
      "image/png": "[encoded data removed]",
      "text/plain": [
       "<Figure size 432x288 with 1 Axes>"
      ]
     },
     "metadata": {
      "needs_background": "light"
     },
     "output_type": "display_data"
    }
   ],
   "source": [
    "plt.imshow(salmap)"
   ]
  },
  {
   "cell_type": "code",
   "execution_count": 46,
   "metadata": {},
   "outputs": [
    {
     "data": {
      "text/plain": [
       "<matplotlib.image.AxesImage at 0x7fb218a7a470>"
      ]
     },
     "execution_count": 46,
     "metadata": {},
     "output_type": "execute_result"
    },
    {
     "data": {
      "image/png": "[encoded data removed]",
      "text/plain": [
       "<Figure size 432x288 with 1 Axes>"
      ]
     },
     "metadata": {
      "needs_background": "light"
     },
     "output_type": "display_data"
    }
   ],
   "source": [
    "plt.imshow(salmap*act_grad)"
   ]
  },
  {
   "cell_type": "code",
   "execution_count": null,
   "metadata": {},
   "outputs": [],
   "source": []
  },
  {
   "cell_type": "code",
   "execution_count": 14,
   "metadata": {},
   "outputs": [],
   "source": [
    "\n",
    "def img_cam(act_grad, img, std):\n",
    "    # Gradients zero to one\n",
    "    act_grad = cv2.resize(act_grad, (img.shape[0],img.shape[1]))\n",
    "    mask = np.where(act_grad, (abs(act_grad)>std*2), 0)\n",
    "    mask = np.expand_dims(mask, -1)\n",
    "    \n",
    "    act_grad -= act_grad.min()\n",
    "    act_grad = act_grad / act_grad.max()\n",
    "    \n",
    "    # Make a three-channel heatmap out of the one channel gradients\n",
    "    heatmap = cv2.applyColorMap(np.uint8(255 * act_grad), cv2.COLORMAP_JET)\n",
    "    heatmap = np.float32(heatmap) / 255\n",
    "    heatmap = heatmap * mask\n",
    "    heatmap = heatmap * 255\n",
    "    \n",
    "    #img = img / 255\n",
    "    \n",
    "    cam = heatmap*.5 + img\n",
    "    \n",
    "    #cam = cam / cam.max()\n",
    "    #cam = cam * 255\n",
    "    cam = np.clip(cam, 0, 255)\n",
    "    cam = cam.astype(np.uint8)\n",
    "    \n",
    "    return cam"
   ]
  },
  {
   "cell_type": "code",
   "execution_count": 15,
   "metadata": {},
   "outputs": [],
   "source": [
    "std = np.array(act_grads[20:]).std()\n",
    "img_cams = []\n",
    "for img, act_grad in zip(imgs,act_grads):\n",
    "    img_cams.append(img_cam(act_grad,img,std))"
   ]
  },
  {
   "cell_type": "code",
   "execution_count": 16,
   "metadata": {},
   "outputs": [],
   "source": [
    "# IG vid\n",
    "\n",
    "img1 = img_cams[0]\n",
    "height , width , layers = img1.shape\n",
    "fps = 20\n",
    "\n",
    "video = cv2.VideoWriter('cams.avi', cv2.VideoWriter_fourcc(*\"MJPG\"), fps, (width,height))\n",
    "\n",
    "for i in range(len(imgs)-1):\n",
    "    img = img_cams[i] # cv2 expects out of 255, integers\n",
    "    img = np.flip(img, -1)\n",
    "    video.write(img)\n",
    "    \n",
    "cv2.destroyAllWindows()\n",
    "video.release()"
   ]
  },
  {
   "cell_type": "code",
   "execution_count": 9,
   "metadata": {
    "scrolled": true
   },
   "outputs": [],
   "source": [
    "# Just the vid\n",
    "\n",
    "#img1 = img_cams[0]\n",
    "img1 = imgs[0]\n",
    "height , width , layers = img1.shape\n",
    "fps = 20\n",
    "\n",
    "video = cv2.VideoWriter('cams.avi', cv2.VideoWriter_fourcc(*\"MJPG\"), fps, (width,height))\n",
    "\n",
    "for i in range(len(imgs)-1):\n",
    "    img = imgs[i]\n",
    "    img = np.flip(img, -1)\n",
    "    #img = img_cams[i] # cv2 expects out of 255, integers\n",
    "    video.write(img)\n",
    "    \n",
    "cv2.destroyAllWindows()\n",
    "video.release()"
   ]
  },
  {
   "cell_type": "code",
   "execution_count": 10,
   "metadata": {},
   "outputs": [
    {
     "data": {
      "text/plain": [
       "(1, 16, 29, 29)"
      ]
     },
     "execution_count": 10,
     "metadata": {},
     "output_type": "execute_result"
    }
   ],
   "source": [
    "salmap.shape"
   ]
  },
  {
   "cell_type": "code",
   "execution_count": null,
   "metadata": {},
   "outputs": [],
   "source": []
  },
  {
   "cell_type": "code",
   "execution_count": null,
   "metadata": {},
   "outputs": [],
   "source": []
  }
 ],
 "metadata": {
  "kernelspec": {
   "display_name": "Python 3 (ipykernel)",
   "language": "python",
   "name": "python3"
  },
  "language_info": {
   "codemirror_mode": {
    "name": "ipython",
    "version": 3
   },
   "file_extension": ".py",
   "mimetype": "text/x-python",
   "name": "python",
   "nbconvert_exporter": "python",
   "pygments_lexer": "ipython3",
   "version": "3.7.3"
  }
 },
 "nbformat": 4,
 "nbformat_minor": 4
}
